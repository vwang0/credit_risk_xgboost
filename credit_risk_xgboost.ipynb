{
 "cells": [
  {
   "cell_type": "markdown",
   "metadata": {},
   "source": [
    "## Import packages and load data"
   ]
  },
  {
   "cell_type": "code",
   "execution_count": 80,
   "metadata": {},
   "outputs": [],
   "source": [
    "# Load packages\n",
    "import scipy as sp\n",
    "import pandas as pd\n",
    "import numpy as np\n",
    "import datetime as dt\n",
    "import matplotlib.pyplot as plt\n",
    "import seaborn as sns\n",
    "import random\n",
    "from sklearn.model_selection import train_test_split, KFold, cross_val_score\n",
    "from sklearn.metrics import confusion_matrix, auc,roc_auc_score,roc_curve, accuracy_score\n",
    "from sklearn.feature_selection import SelectFromModel\n",
    "# import pandas_profiling\n",
    "\n",
    "from xgboost import XGBClassifier\n",
    "import warnings\n",
    "warnings.filterwarnings('ignore')\n",
    "# import matplotlib.style as style\n",
    "# style.use('classic')"
   ]
  },
  {
   "cell_type": "code",
   "execution_count": 81,
   "metadata": {},
   "outputs": [],
   "source": [
    "# Load data\n",
    "# loan_data = pd.read_csv('Lending_Club_v2.csv', low_memory=False)\n",
    "loan_data = pd.read_csv('loan_data_2007_2014.csv', low_memory=False)\n"
   ]
  },
  {
   "cell_type": "code",
   "execution_count": 82,
   "metadata": {},
   "outputs": [
    {
     "data": {
      "text/plain": [
       "(466285, 75)"
      ]
     },
     "execution_count": 82,
     "metadata": {},
     "output_type": "execute_result"
    }
   ],
   "source": [
    "# Check the data shape\n",
    "loan_data.shape"
   ]
  },
  {
   "cell_type": "markdown",
   "metadata": {},
   "source": [
    "#### Define target variable"
   ]
  },
  {
   "cell_type": "code",
   "execution_count": 83,
   "metadata": {
    "scrolled": true
   },
   "outputs": [],
   "source": [
    "# Define target variable and drop loan_status\n",
    "bad_indicators = [\"Charged Off \",\n",
    "\"Charged Off\",\n",
    "\"Default\",\n",
    "\"Does not meet the credit policy. Status:Charged Off\",\n",
    "\"In Grace Period\",\n",
    "\"Default Receiver\",\n",
    "\"Late (16-30 days)\",\n",
    "\"Late (31-120 days)\"]\n",
    "loan_data['target'] = loan_data['loan_status'].isin(bad_indicators).astype(int)\n",
    "loan_data.drop('loan_status', axis =1, inplace = True)\n",
    "df_eda = loan_data.copy()"
   ]
  },
  {
   "cell_type": "markdown",
   "metadata": {},
   "source": [
    "We noticed very strict defination of bad borrowers."
   ]
  },
  {
   "cell_type": "code",
   "execution_count": 84,
   "metadata": {},
   "outputs": [
    {
     "name": "stdout",
     "output_type": "stream",
     "text": [
      "Total number of records:\n",
      " 466285\n",
      "Number of records in each class:\n",
      " 0    410953\n",
      "1     55332\n",
      "Name: target, dtype: int64\n",
      "Percentage in each class:\n",
      " 0    0.881334\n",
      "1    0.118666\n",
      "Name: target, dtype: float64\n"
     ]
    }
   ],
   "source": [
    "# Check target variable value counts and percentage\n",
    "print('Total number of records:\\n', len(loan_data))\n",
    "print('Number of records in each class:\\n', loan_data['target'].value_counts())\n",
    "print('Percentage in each class:\\n', loan_data['target'].value_counts()/len(loan_data))"
   ]
  },
  {
   "cell_type": "markdown",
   "metadata": {},
   "source": [
    "There are 42542 records in total, and about 15.1% is defaulted or delinquent more than 16 days.   \n",
    "The dataset has imbalance classes. xgboost performs well in general, even on imbalanced classification datasets. I will tune the training algorithm to pay more attention to misclassification of the minority class for datasets with a skewed class distribution."
   ]
  },
  {
   "cell_type": "markdown",
   "metadata": {},
   "source": [
    "## Data cleaning and feature reduction"
   ]
  },
  {
   "cell_type": "markdown",
   "metadata": {},
   "source": [
    "#### Check mising values in columns"
   ]
  },
  {
   "cell_type": "markdown",
   "metadata": {},
   "source": [
    "As we can see there are 42542 rows & 144 columns in the dataset, it will be very difficult to look at each column one by one & find the NA or missing values. So let's find out all columns where missing values are more than certain percentage, let's say 90%. We will remove those columns as it is not feasable to impute missing values for those columns."
   ]
  },
  {
   "cell_type": "code",
   "execution_count": 85,
   "metadata": {},
   "outputs": [],
   "source": [
    "pd.options.display.max_columns = None"
   ]
  },
  {
   "cell_type": "code",
   "execution_count": 86,
   "metadata": {},
   "outputs": [
    {
     "data": {
      "text/plain": [
       "annual_inc_joint               1.000000\n",
       "verification_status_joint      1.000000\n",
       "open_acc_6m                    1.000000\n",
       "open_il_6m                     1.000000\n",
       "open_il_12m                    1.000000\n",
       "open_il_24m                    1.000000\n",
       "mths_since_rcnt_il             1.000000\n",
       "total_bal_il                   1.000000\n",
       "il_util                        1.000000\n",
       "open_rv_12m                    1.000000\n",
       "open_rv_24m                    1.000000\n",
       "max_bal_bc                     1.000000\n",
       "all_util                       1.000000\n",
       "inq_last_12m                   1.000000\n",
       "inq_fi                         1.000000\n",
       "total_cu_tl                    1.000000\n",
       "dti_joint                      1.000000\n",
       "mths_since_last_record         0.865666\n",
       "mths_since_last_major_derog    0.787739\n",
       "desc                           0.729815\n",
       "mths_since_last_delinq         0.536906\n",
       "next_pymnt_d                   0.487286\n",
       "tot_coll_amt                   0.150715\n",
       "total_rev_hi_lim               0.150715\n",
       "tot_cur_bal                    0.150715\n",
       "emp_title                      0.059166\n",
       "emp_length                     0.045054\n",
       "last_pymnt_d                   0.000806\n",
       "revol_util                     0.000729\n",
       "collections_12_mths_ex_med     0.000311\n",
       "last_credit_pull_d             0.000090\n",
       "acc_now_delinq                 0.000062\n",
       "inq_last_6mths                 0.000062\n",
       "total_acc                      0.000062\n",
       "open_acc                       0.000062\n",
       "earliest_cr_line               0.000062\n",
       "delinq_2yrs                    0.000062\n",
       "pub_rec                        0.000062\n",
       "title                          0.000043\n",
       "annual_inc                     0.000009\n",
       "verification_status            0.000000\n",
       "issue_d                        0.000000\n",
       "pymnt_plan                     0.000000\n",
       "target                         0.000000\n",
       "home_ownership                 0.000000\n",
       "sub_grade                      0.000000\n",
       "grade                          0.000000\n",
       "installment                    0.000000\n",
       "int_rate                       0.000000\n",
       "term                           0.000000\n",
       "funded_amnt_inv                0.000000\n",
       "funded_amnt                    0.000000\n",
       "url                            0.000000\n",
       "member_id                      0.000000\n",
       "id                             0.000000\n",
       "loan_amnt                      0.000000\n",
       "out_prncp_inv                  0.000000\n",
       "purpose                        0.000000\n",
       "zip_code                       0.000000\n",
       "application_type               0.000000\n",
       "policy_code                    0.000000\n",
       "last_pymnt_amnt                0.000000\n",
       "collection_recovery_fee        0.000000\n",
       "recoveries                     0.000000\n",
       "total_rec_late_fee             0.000000\n",
       "total_rec_int                  0.000000\n",
       "total_rec_prncp                0.000000\n",
       "total_pymnt_inv                0.000000\n",
       "total_pymnt                    0.000000\n",
       "out_prncp                      0.000000\n",
       "initial_list_status            0.000000\n",
       "revol_bal                      0.000000\n",
       "dti                            0.000000\n",
       "addr_state                     0.000000\n",
       "Unnamed: 0                     0.000000\n",
       "dtype: float64"
      ]
     },
     "execution_count": 86,
     "metadata": {},
     "output_type": "execute_result"
    }
   ],
   "source": [
    "# Percentage of null values in each column \n",
    "pd.options.display.max_rows = None\n",
    "loan_data.isna().mean().sort_values(ascending = False)"
   ]
  },
  {
   "cell_type": "code",
   "execution_count": 87,
   "metadata": {},
   "outputs": [],
   "source": [
    "# -------------------------------------------------------------------------\n",
    "def remove_nulls(data, axis = 1, percent = 0.75):\n",
    "# Remove rows and columns based on parameters provided.\n",
    "    df = data.copy()\n",
    "    ishape = df.shape\n",
    "    if axis == 0:\n",
    "        rownames = (df.transpose().isnull().sum()/df.shape[1])\n",
    "        rownames = list(rownames[rownames.values > percent].index)\n",
    "        df.drop(df.index[rownames],inplace=True) \n",
    "        print(\"\\nNumber of Rows dropped\\t: \",len(rownames))\n",
    "    else:\n",
    "        colnames = (df.isnull().sum()/len(df))\n",
    "        colnames = list(colnames[colnames.values>=percent].index)\n",
    "        df.drop(labels = colnames,axis =1,inplace=True)        \n",
    "        print(\"Number of Columns dropped\\t: \",len(colnames))\n",
    "        \n",
    "    print(\"\\nOld dataset rows,columns\",ishape,\"\\nNew dataset rows,columns\",df.shape)\n",
    "\n",
    "    return df"
   ]
  },
  {
   "cell_type": "markdown",
   "metadata": {},
   "source": [
    "#### Remove columns where NA values are more than or equal to 90%"
   ]
  },
  {
   "cell_type": "code",
   "execution_count": 88,
   "metadata": {
    "scrolled": true
   },
   "outputs": [
    {
     "name": "stdout",
     "output_type": "stream",
     "text": [
      "Number of Columns dropped\t:  17\n",
      "\n",
      "Old dataset rows,columns (466285, 75) \n",
      "New dataset rows,columns (466285, 58)\n"
     ]
    }
   ],
   "source": [
    "# Drop the columns with % of null value > 90%, to be conservative.\n",
    "loan_data = remove_nulls(loan_data, axis = 1, percent = 0.9)"
   ]
  },
  {
   "cell_type": "markdown",
   "metadata": {},
   "source": [
    "According to this criteria, 90 out of 144 columns were dropped."
   ]
  },
  {
   "cell_type": "markdown",
   "metadata": {},
   "source": [
    "#### Remove rows where NA values are more than or equal to 90%"
   ]
  },
  {
   "cell_type": "code",
   "execution_count": 89,
   "metadata": {
    "scrolled": false
   },
   "outputs": [
    {
     "name": "stdout",
     "output_type": "stream",
     "text": [
      "\n",
      "Number of Rows dropped\t:  0\n",
      "\n",
      "Old dataset rows,columns (466285, 58) \n",
      "New dataset rows,columns (466285, 58)\n"
     ]
    }
   ],
   "source": [
    "# Drop the rows with % of null value > 90%, because the records cannot be reliable since too many features are missing.\n",
    "loan_data = remove_nulls(loan_data, axis = 0, percent = 0.9)"
   ]
  },
  {
   "cell_type": "markdown",
   "metadata": {},
   "source": [
    "According to this criteria, 7 rows were dropped."
   ]
  },
  {
   "cell_type": "markdown",
   "metadata": {},
   "source": [
    "#### Remove columns with one unique value and no missing values.   \n",
    "if a variable only contains one value and no missing values, the variable does not have any predictive power.\n"
   ]
  },
  {
   "cell_type": "code",
   "execution_count": 90,
   "metadata": {},
   "outputs": [],
   "source": [
    "# Let's look at # of unique values for each column.\n",
    "# I will remove all columns where number of unique value is 1 \n",
    "# Those columns will not give us any insights.\n",
    "def remove_1unique(data):\n",
    "    df = data.copy()\n",
    "    ishape = df.shape\n",
    "    uniques = df.nunique()\n",
    "    unique = uniques[uniques.values == 1] \n",
    "    nomissings = df.isnull().sum()\n",
    "    nomissing = nomissings[nomissings.values==0]\n",
    "    df.drop(labels = list(nomissing.index.intersection(unique.index)), axis =1, inplace=True)\n",
    "    print('Dropped columns:\\n', list(unique.index))\n",
    "    print(\"\\nOld dataset rows,columns\",ishape,\"\\nNew dataset rows,columns\",df.shape)\n",
    "    \n",
    "    \n",
    "    return df"
   ]
  },
  {
   "cell_type": "code",
   "execution_count": 91,
   "metadata": {},
   "outputs": [
    {
     "name": "stdout",
     "output_type": "stream",
     "text": [
      "Dropped columns:\n",
      " ['policy_code', 'application_type']\n",
      "\n",
      "Old dataset rows,columns (466285, 58) \n",
      "New dataset rows,columns (466285, 56)\n"
     ]
    }
   ],
   "source": [
    "loan_data = remove_1unique(loan_data)"
   ]
  },
  {
   "cell_type": "markdown",
   "metadata": {},
   "source": [
    "Here we removed 7 columns with one unique and no missing values value because these columns don't contain any useful information. And I also double checnked the value it's contained."
   ]
  },
  {
   "cell_type": "markdown",
   "metadata": {},
   "source": [
    "#### Transform some characteristics variables into numeric"
   ]
  },
  {
   "cell_type": "code",
   "execution_count": 102,
   "metadata": {},
   "outputs": [],
   "source": [
    "def del_str_process(data):\n",
    "# Convert object column to numeric variable\n",
    "#     data['term'] = data['term'].str.replace('months',' ').str.strip().astype('float64')\n",
    "    data['int_rate'] = data['int_rate'] * 0.01\n",
    "    data['revol_util'] = data['revol_util']* 0.01   \n",
    "    data['emp_length'] = data['emp_length'].str.replace('< 1 year','0').str.replace('10+ years','10')\n",
    "    data['emp_length'] = data['emp_length'].str.replace('n/a','-1').str.strip()\n",
    "    data['emp_length'] = data['emp_length'].str.replace('years',' ').str.replace('year',' ').str.strip()\n",
    "    data['emp_length'][data['emp_length'] == '10+'] = 10\n",
    "    data['emp_length'] = data['emp_length'].astype('float64')   \n",
    "    data['annual_inc'] = data['annual_inc'].astype('float64') \n",
    "    \n",
    "    return data"
   ]
  },
  {
   "cell_type": "code",
   "execution_count": 98,
   "metadata": {},
   "outputs": [
    {
     "data": {
      "text/plain": [
       "0    36.0\n",
       "1    60.0\n",
       "2    36.0\n",
       "3    36.0\n",
       "4    60.0\n",
       "Name: term, dtype: float64"
      ]
     },
     "execution_count": 98,
     "metadata": {},
     "output_type": "execute_result"
    }
   ],
   "source": [
    "loan_data.term.head()"
   ]
  },
  {
   "cell_type": "code",
   "execution_count": 103,
   "metadata": {},
   "outputs": [],
   "source": [
    "loan_data = del_str_process(loan_data)"
   ]
  },
  {
   "cell_type": "markdown",
   "metadata": {},
   "source": [
    "#### Handle datetime columns"
   ]
  },
  {
   "cell_type": "code",
   "execution_count": 104,
   "metadata": {},
   "outputs": [],
   "source": [
    "def convert_date(data):\n",
    "# Convert object column to datetime: last_pymnt_d, last_credit_pull_d, earliest_cr_line, issue_d\n",
    "    data['last_pymnt_d'] = pd.to_datetime(data['last_pymnt_d'], format='%b-%y')\n",
    "    data['last_credit_pull_d'] = pd.to_datetime(data['last_credit_pull_d'], format='%b-%y')\n",
    "    data['earliest_cr_line'] = pd.to_datetime(data['earliest_cr_line'], format='%b-%y')\n",
    "    data['issue_d'] = pd.to_datetime(data['issue_d'], format='%b-%y')\n",
    "    \n",
    "    return data"
   ]
  },
  {
   "cell_type": "code",
   "execution_count": 105,
   "metadata": {},
   "outputs": [],
   "source": [
    "loan_data = convert_date(loan_data) "
   ]
  },
  {
   "cell_type": "markdown",
   "metadata": {},
   "source": [
    "For all the datetime variable we don't have a reference date to calculate durations. So I decide to drop them."
   ]
  },
  {
   "cell_type": "code",
   "execution_count": 106,
   "metadata": {},
   "outputs": [],
   "source": [
    "loan_data.drop(columns = ['last_pymnt_d','last_credit_pull_d', 'earliest_cr_line', 'issue_d'], inplace = True)"
   ]
  },
  {
   "cell_type": "markdown",
   "metadata": {},
   "source": [
    "#### Data Leakage Issue"
   ]
  },
  {
   "cell_type": "markdown",
   "metadata": {},
   "source": [
    "The goal of predictive modeling is to develop a model that makes accurate predictions on new data, unseen during training.\n",
    "A column is considered to leak information when the data it contains won’t be available when we use our model to make predictions, or — in this case when we use our model to predict whether a borrower will default.\n",
    "Data leakage can cause you to create overly optimistic predictive models.\n",
    "such as the "
   ]
  },
  {
   "cell_type": "code",
   "execution_count": 107,
   "metadata": {},
   "outputs": [
    {
     "data": {
      "text/plain": [
       "1    24371\n",
       "Name: target, dtype: int64"
      ]
     },
     "execution_count": 107,
     "metadata": {},
     "output_type": "execute_result"
    }
   ],
   "source": [
    "# We can confirm our thoughts by checking a couple of variables. \n",
    "# When recoveries is greater than zero, it indicates the loan is already defaulted.\n",
    "loan_data[loan_data['recoveries']>0]['target'].value_counts()"
   ]
  },
  {
   "cell_type": "code",
   "execution_count": 108,
   "metadata": {},
   "outputs": [
    {
     "data": {
      "text/plain": [
       "1    23206\n",
       "Name: target, dtype: int64"
      ]
     },
     "execution_count": 108,
     "metadata": {},
     "output_type": "execute_result"
    }
   ],
   "source": [
    "loan_data[loan_data['collection_recovery_fee']>0]['target'].value_counts()"
   ]
  },
  {
   "cell_type": "markdown",
   "metadata": {},
   "source": [
    "To prevent using data about the target column that wouldn't be available when we're using the model on future loans, the following columns need to be removed:\n",
    "\n",
    "**recoveries**: also leaks data from the future.   \n",
    "**collection_recovery_fee**: also leaks data from the future.   \n",
    "**total_rec_prncp**: also leaks data from the future.   \n",
    "**total_rec_late_fee**: also leaks data from the future.    \n",
    "**total_pymnt**: also leaks data from the future.   \n",
    "**total_pymnt_inv**: also leaks data from the future.   \n",
    "**debt_settlement_flag**: also leaks data from the future.\n"
   ]
  },
  {
   "cell_type": "code",
   "execution_count": 111,
   "metadata": {},
   "outputs": [],
   "source": [
    "drop_list = [\n",
    "'recoveries',\n",
    "'collection_recovery_fee',\n",
    "'total_rec_prncp',\n",
    "'total_rec_late_fee',\n",
    "'total_pymnt',\n",
    "'total_pymnt_inv'\n",
    "    ]"
   ]
  },
  {
   "cell_type": "code",
   "execution_count": 112,
   "metadata": {},
   "outputs": [],
   "source": [
    "loan_data.drop(columns=drop_list, inplace = True)"
   ]
  },
  {
   "cell_type": "markdown",
   "metadata": {},
   "source": [
    "#### Remove  columns not suitable for modeling"
   ]
  },
  {
   "cell_type": "markdown",
   "metadata": {},
   "source": [
    "Now let's look at each column from business perspective if that is required or not for our analysis.   "
   ]
  },
  {
   "cell_type": "code",
   "execution_count": 113,
   "metadata": {},
   "outputs": [
    {
     "data": {
      "text/plain": [
       "title         63099\n",
       "emp_title    205475\n",
       "dtype: int64"
      ]
     },
     "execution_count": 113,
     "metadata": {},
     "output_type": "execute_result"
    }
   ],
   "source": [
    "loan_data[['title','emp_title']].nunique()"
   ]
  },
  {
   "cell_type": "markdown",
   "metadata": {},
   "source": [
    "These two columns are high cardinality variables and not suitable for modeling, and we are going to drop them unless we find some business rationale to dig deep into the variables."
   ]
  },
  {
   "cell_type": "code",
   "execution_count": 114,
   "metadata": {
    "scrolled": true
   },
   "outputs": [],
   "source": [
    "loan_data.drop(columns = ['title','emp_title'], inplace = True)"
   ]
  },
  {
   "cell_type": "code",
   "execution_count": 115,
   "metadata": {},
   "outputs": [
    {
     "data": {
      "text/html": [
       "<div>\n",
       "<style scoped>\n",
       "    .dataframe tbody tr th:only-of-type {\n",
       "        vertical-align: middle;\n",
       "    }\n",
       "\n",
       "    .dataframe tbody tr th {\n",
       "        vertical-align: top;\n",
       "    }\n",
       "\n",
       "    .dataframe thead th {\n",
       "        text-align: right;\n",
       "    }\n",
       "</style>\n",
       "<table border=\"1\" class=\"dataframe\">\n",
       "  <thead>\n",
       "    <tr style=\"text-align: right;\">\n",
       "      <th></th>\n",
       "      <th>grade</th>\n",
       "      <th>sub_grade</th>\n",
       "    </tr>\n",
       "  </thead>\n",
       "  <tbody>\n",
       "    <tr>\n",
       "      <th>0</th>\n",
       "      <td>B</td>\n",
       "      <td>B2</td>\n",
       "    </tr>\n",
       "    <tr>\n",
       "      <th>1</th>\n",
       "      <td>C</td>\n",
       "      <td>C4</td>\n",
       "    </tr>\n",
       "    <tr>\n",
       "      <th>2</th>\n",
       "      <td>C</td>\n",
       "      <td>C5</td>\n",
       "    </tr>\n",
       "    <tr>\n",
       "      <th>3</th>\n",
       "      <td>C</td>\n",
       "      <td>C1</td>\n",
       "    </tr>\n",
       "    <tr>\n",
       "      <th>4</th>\n",
       "      <td>B</td>\n",
       "      <td>B5</td>\n",
       "    </tr>\n",
       "  </tbody>\n",
       "</table>\n",
       "</div>"
      ],
      "text/plain": [
       "  grade sub_grade\n",
       "0     B        B2\n",
       "1     C        C4\n",
       "2     C        C5\n",
       "3     C        C1\n",
       "4     B        B5"
      ]
     },
     "execution_count": 115,
     "metadata": {},
     "output_type": "execute_result"
    }
   ],
   "source": [
    "loan_data[['grade','sub_grade']].head()"
   ]
  },
  {
   "cell_type": "markdown",
   "metadata": {},
   "source": [
    "Since grade and sub_grade are correlated, and sub_grade contains more granular information, I will drop grade and convert sub_grade to numeric later."
   ]
  },
  {
   "cell_type": "code",
   "execution_count": 116,
   "metadata": {},
   "outputs": [],
   "source": [
    "loan_data.drop(columns = 'grade', inplace = True)"
   ]
  },
  {
   "cell_type": "code",
   "execution_count": 117,
   "metadata": {},
   "outputs": [
    {
     "data": {
      "text/plain": [
       "0    860xx\n",
       "1    309xx\n",
       "2    606xx\n",
       "3    917xx\n",
       "4    972xx\n",
       "Name: zip_code, dtype: object"
      ]
     },
     "execution_count": 117,
     "metadata": {},
     "output_type": "execute_result"
    }
   ],
   "source": [
    "loan_data['zip_code'].head()"
   ]
  },
  {
   "cell_type": "markdown",
   "metadata": {},
   "source": [
    "Mostly redundant with the addr_state column since only the first 3 digits of the 5 digit zip code are visible. I will drop it."
   ]
  },
  {
   "cell_type": "code",
   "execution_count": 118,
   "metadata": {},
   "outputs": [],
   "source": [
    "loan_data.drop(columns = 'zip_code', inplace = True)"
   ]
  },
  {
   "cell_type": "code",
   "execution_count": 119,
   "metadata": {},
   "outputs": [
    {
     "data": {
      "text/plain": [
       "0      Borrower added on 12/22/11 > I need to upgra...\n",
       "1      Borrower added on 12/22/11 > I plan to use t...\n",
       "2                                                  NaN\n",
       "3      Borrower added on 12/21/11 > to pay for prop...\n",
       "4      Borrower added on 12/21/11 > I plan on combi...\n",
       "Name: desc, dtype: object"
      ]
     },
     "execution_count": 119,
     "metadata": {},
     "output_type": "execute_result"
    }
   ],
   "source": [
    "loan_data['desc'].head()"
   ]
  },
  {
   "cell_type": "markdown",
   "metadata": {},
   "source": [
    "The desc column may require extensive NLP to gain insights. Due to time constraints, we will drop it as well. "
   ]
  },
  {
   "cell_type": "code",
   "execution_count": 120,
   "metadata": {},
   "outputs": [],
   "source": [
    "loan_data.drop(columns = 'desc', inplace = True)"
   ]
  },
  {
   "cell_type": "markdown",
   "metadata": {},
   "source": [
    "## EDA"
   ]
  },
  {
   "cell_type": "markdown",
   "metadata": {},
   "source": [
    "#### Check descriptive statistics"
   ]
  },
  {
   "cell_type": "code",
   "execution_count": 121,
   "metadata": {},
   "outputs": [
    {
     "data": {
      "text/html": [
       "<div>\n",
       "<style scoped>\n",
       "    .dataframe tbody tr th:only-of-type {\n",
       "        vertical-align: middle;\n",
       "    }\n",
       "\n",
       "    .dataframe tbody tr th {\n",
       "        vertical-align: top;\n",
       "    }\n",
       "\n",
       "    .dataframe thead th {\n",
       "        text-align: right;\n",
       "    }\n",
       "</style>\n",
       "<table border=\"1\" class=\"dataframe\">\n",
       "  <thead>\n",
       "    <tr style=\"text-align: right;\">\n",
       "      <th></th>\n",
       "      <th>count</th>\n",
       "      <th>mean</th>\n",
       "      <th>std</th>\n",
       "      <th>min</th>\n",
       "      <th>25%</th>\n",
       "      <th>50%</th>\n",
       "      <th>75%</th>\n",
       "      <th>max</th>\n",
       "    </tr>\n",
       "  </thead>\n",
       "  <tbody>\n",
       "    <tr>\n",
       "      <th>Unnamed: 0</th>\n",
       "      <td>466285.0</td>\n",
       "      <td>233142.0</td>\n",
       "      <td>134605.0</td>\n",
       "      <td>0.0</td>\n",
       "      <td>116571.0</td>\n",
       "      <td>233142.0</td>\n",
       "      <td>349713.0</td>\n",
       "      <td>466284.0</td>\n",
       "    </tr>\n",
       "    <tr>\n",
       "      <th>id</th>\n",
       "      <td>466285.0</td>\n",
       "      <td>13079729.9</td>\n",
       "      <td>10893711.6</td>\n",
       "      <td>54734.0</td>\n",
       "      <td>3639987.0</td>\n",
       "      <td>10107897.0</td>\n",
       "      <td>20731209.0</td>\n",
       "      <td>38098114.0</td>\n",
       "    </tr>\n",
       "    <tr>\n",
       "      <th>member_id</th>\n",
       "      <td>466285.0</td>\n",
       "      <td>14597660.6</td>\n",
       "      <td>11682367.4</td>\n",
       "      <td>70473.0</td>\n",
       "      <td>4379705.0</td>\n",
       "      <td>11941075.0</td>\n",
       "      <td>23001541.0</td>\n",
       "      <td>40860827.0</td>\n",
       "    </tr>\n",
       "    <tr>\n",
       "      <th>loan_amnt</th>\n",
       "      <td>466285.0</td>\n",
       "      <td>14317.3</td>\n",
       "      <td>8286.5</td>\n",
       "      <td>500.0</td>\n",
       "      <td>8000.0</td>\n",
       "      <td>12000.0</td>\n",
       "      <td>20000.0</td>\n",
       "      <td>35000.0</td>\n",
       "    </tr>\n",
       "    <tr>\n",
       "      <th>funded_amnt</th>\n",
       "      <td>466285.0</td>\n",
       "      <td>14291.8</td>\n",
       "      <td>8274.4</td>\n",
       "      <td>500.0</td>\n",
       "      <td>8000.0</td>\n",
       "      <td>12000.0</td>\n",
       "      <td>20000.0</td>\n",
       "      <td>35000.0</td>\n",
       "    </tr>\n",
       "    <tr>\n",
       "      <th>funded_amnt_inv</th>\n",
       "      <td>466285.0</td>\n",
       "      <td>14222.3</td>\n",
       "      <td>8297.6</td>\n",
       "      <td>0.0</td>\n",
       "      <td>8000.0</td>\n",
       "      <td>12000.0</td>\n",
       "      <td>19950.0</td>\n",
       "      <td>35000.0</td>\n",
       "    </tr>\n",
       "    <tr>\n",
       "      <th>term</th>\n",
       "      <td>466285.0</td>\n",
       "      <td>42.6</td>\n",
       "      <td>10.7</td>\n",
       "      <td>36.0</td>\n",
       "      <td>36.0</td>\n",
       "      <td>36.0</td>\n",
       "      <td>60.0</td>\n",
       "      <td>60.0</td>\n",
       "    </tr>\n",
       "    <tr>\n",
       "      <th>int_rate</th>\n",
       "      <td>466285.0</td>\n",
       "      <td>0.1</td>\n",
       "      <td>0.0</td>\n",
       "      <td>0.1</td>\n",
       "      <td>0.1</td>\n",
       "      <td>0.1</td>\n",
       "      <td>0.2</td>\n",
       "      <td>0.3</td>\n",
       "    </tr>\n",
       "    <tr>\n",
       "      <th>installment</th>\n",
       "      <td>466285.0</td>\n",
       "      <td>432.1</td>\n",
       "      <td>243.5</td>\n",
       "      <td>15.7</td>\n",
       "      <td>256.7</td>\n",
       "      <td>379.9</td>\n",
       "      <td>566.6</td>\n",
       "      <td>1410.0</td>\n",
       "    </tr>\n",
       "    <tr>\n",
       "      <th>emp_length</th>\n",
       "      <td>445277.0</td>\n",
       "      <td>6.0</td>\n",
       "      <td>3.6</td>\n",
       "      <td>0.0</td>\n",
       "      <td>3.0</td>\n",
       "      <td>6.0</td>\n",
       "      <td>10.0</td>\n",
       "      <td>10.0</td>\n",
       "    </tr>\n",
       "    <tr>\n",
       "      <th>annual_inc</th>\n",
       "      <td>466281.0</td>\n",
       "      <td>73277.4</td>\n",
       "      <td>54963.6</td>\n",
       "      <td>1896.0</td>\n",
       "      <td>45000.0</td>\n",
       "      <td>63000.0</td>\n",
       "      <td>88960.0</td>\n",
       "      <td>7500000.0</td>\n",
       "    </tr>\n",
       "    <tr>\n",
       "      <th>dti</th>\n",
       "      <td>466285.0</td>\n",
       "      <td>17.2</td>\n",
       "      <td>7.9</td>\n",
       "      <td>0.0</td>\n",
       "      <td>11.4</td>\n",
       "      <td>16.9</td>\n",
       "      <td>22.8</td>\n",
       "      <td>40.0</td>\n",
       "    </tr>\n",
       "    <tr>\n",
       "      <th>delinq_2yrs</th>\n",
       "      <td>466256.0</td>\n",
       "      <td>0.3</td>\n",
       "      <td>0.8</td>\n",
       "      <td>0.0</td>\n",
       "      <td>0.0</td>\n",
       "      <td>0.0</td>\n",
       "      <td>0.0</td>\n",
       "      <td>29.0</td>\n",
       "    </tr>\n",
       "    <tr>\n",
       "      <th>inq_last_6mths</th>\n",
       "      <td>466256.0</td>\n",
       "      <td>0.8</td>\n",
       "      <td>1.1</td>\n",
       "      <td>0.0</td>\n",
       "      <td>0.0</td>\n",
       "      <td>0.0</td>\n",
       "      <td>1.0</td>\n",
       "      <td>33.0</td>\n",
       "    </tr>\n",
       "    <tr>\n",
       "      <th>mths_since_last_delinq</th>\n",
       "      <td>215934.0</td>\n",
       "      <td>34.1</td>\n",
       "      <td>21.8</td>\n",
       "      <td>0.0</td>\n",
       "      <td>16.0</td>\n",
       "      <td>31.0</td>\n",
       "      <td>49.0</td>\n",
       "      <td>188.0</td>\n",
       "    </tr>\n",
       "    <tr>\n",
       "      <th>mths_since_last_record</th>\n",
       "      <td>62638.0</td>\n",
       "      <td>74.3</td>\n",
       "      <td>30.4</td>\n",
       "      <td>0.0</td>\n",
       "      <td>53.0</td>\n",
       "      <td>76.0</td>\n",
       "      <td>102.0</td>\n",
       "      <td>129.0</td>\n",
       "    </tr>\n",
       "    <tr>\n",
       "      <th>open_acc</th>\n",
       "      <td>466256.0</td>\n",
       "      <td>11.2</td>\n",
       "      <td>5.0</td>\n",
       "      <td>0.0</td>\n",
       "      <td>8.0</td>\n",
       "      <td>10.0</td>\n",
       "      <td>14.0</td>\n",
       "      <td>84.0</td>\n",
       "    </tr>\n",
       "    <tr>\n",
       "      <th>pub_rec</th>\n",
       "      <td>466256.0</td>\n",
       "      <td>0.2</td>\n",
       "      <td>0.5</td>\n",
       "      <td>0.0</td>\n",
       "      <td>0.0</td>\n",
       "      <td>0.0</td>\n",
       "      <td>0.0</td>\n",
       "      <td>63.0</td>\n",
       "    </tr>\n",
       "    <tr>\n",
       "      <th>revol_bal</th>\n",
       "      <td>466285.0</td>\n",
       "      <td>16230.2</td>\n",
       "      <td>20676.2</td>\n",
       "      <td>0.0</td>\n",
       "      <td>6413.0</td>\n",
       "      <td>11764.0</td>\n",
       "      <td>20333.0</td>\n",
       "      <td>2568995.0</td>\n",
       "    </tr>\n",
       "    <tr>\n",
       "      <th>revol_util</th>\n",
       "      <td>465945.0</td>\n",
       "      <td>0.6</td>\n",
       "      <td>0.2</td>\n",
       "      <td>0.0</td>\n",
       "      <td>0.4</td>\n",
       "      <td>0.6</td>\n",
       "      <td>0.7</td>\n",
       "      <td>8.9</td>\n",
       "    </tr>\n",
       "    <tr>\n",
       "      <th>total_acc</th>\n",
       "      <td>466256.0</td>\n",
       "      <td>25.1</td>\n",
       "      <td>11.6</td>\n",
       "      <td>1.0</td>\n",
       "      <td>17.0</td>\n",
       "      <td>23.0</td>\n",
       "      <td>32.0</td>\n",
       "      <td>156.0</td>\n",
       "    </tr>\n",
       "    <tr>\n",
       "      <th>out_prncp</th>\n",
       "      <td>466285.0</td>\n",
       "      <td>4410.1</td>\n",
       "      <td>6355.1</td>\n",
       "      <td>0.0</td>\n",
       "      <td>0.0</td>\n",
       "      <td>441.5</td>\n",
       "      <td>7341.6</td>\n",
       "      <td>32160.4</td>\n",
       "    </tr>\n",
       "    <tr>\n",
       "      <th>out_prncp_inv</th>\n",
       "      <td>466285.0</td>\n",
       "      <td>4408.5</td>\n",
       "      <td>6353.2</td>\n",
       "      <td>0.0</td>\n",
       "      <td>0.0</td>\n",
       "      <td>441.4</td>\n",
       "      <td>7338.4</td>\n",
       "      <td>32160.4</td>\n",
       "    </tr>\n",
       "    <tr>\n",
       "      <th>total_rec_int</th>\n",
       "      <td>466285.0</td>\n",
       "      <td>2588.7</td>\n",
       "      <td>2483.8</td>\n",
       "      <td>0.0</td>\n",
       "      <td>957.3</td>\n",
       "      <td>1818.9</td>\n",
       "      <td>3304.5</td>\n",
       "      <td>24205.6</td>\n",
       "    </tr>\n",
       "    <tr>\n",
       "      <th>last_pymnt_amnt</th>\n",
       "      <td>466285.0</td>\n",
       "      <td>3123.9</td>\n",
       "      <td>5554.7</td>\n",
       "      <td>0.0</td>\n",
       "      <td>312.6</td>\n",
       "      <td>546.0</td>\n",
       "      <td>3187.5</td>\n",
       "      <td>36234.4</td>\n",
       "    </tr>\n",
       "    <tr>\n",
       "      <th>collections_12_mths_ex_med</th>\n",
       "      <td>466140.0</td>\n",
       "      <td>0.0</td>\n",
       "      <td>0.1</td>\n",
       "      <td>0.0</td>\n",
       "      <td>0.0</td>\n",
       "      <td>0.0</td>\n",
       "      <td>0.0</td>\n",
       "      <td>20.0</td>\n",
       "    </tr>\n",
       "    <tr>\n",
       "      <th>mths_since_last_major_derog</th>\n",
       "      <td>98974.0</td>\n",
       "      <td>42.9</td>\n",
       "      <td>21.7</td>\n",
       "      <td>0.0</td>\n",
       "      <td>26.0</td>\n",
       "      <td>42.0</td>\n",
       "      <td>59.0</td>\n",
       "      <td>188.0</td>\n",
       "    </tr>\n",
       "    <tr>\n",
       "      <th>acc_now_delinq</th>\n",
       "      <td>466256.0</td>\n",
       "      <td>0.0</td>\n",
       "      <td>0.1</td>\n",
       "      <td>0.0</td>\n",
       "      <td>0.0</td>\n",
       "      <td>0.0</td>\n",
       "      <td>0.0</td>\n",
       "      <td>5.0</td>\n",
       "    </tr>\n",
       "    <tr>\n",
       "      <th>tot_coll_amt</th>\n",
       "      <td>396009.0</td>\n",
       "      <td>191.9</td>\n",
       "      <td>14630.2</td>\n",
       "      <td>0.0</td>\n",
       "      <td>0.0</td>\n",
       "      <td>0.0</td>\n",
       "      <td>0.0</td>\n",
       "      <td>9152545.0</td>\n",
       "    </tr>\n",
       "    <tr>\n",
       "      <th>tot_cur_bal</th>\n",
       "      <td>396009.0</td>\n",
       "      <td>138801.7</td>\n",
       "      <td>152114.7</td>\n",
       "      <td>0.0</td>\n",
       "      <td>28618.0</td>\n",
       "      <td>81539.0</td>\n",
       "      <td>208953.0</td>\n",
       "      <td>8000078.0</td>\n",
       "    </tr>\n",
       "    <tr>\n",
       "      <th>total_rev_hi_lim</th>\n",
       "      <td>396009.0</td>\n",
       "      <td>30379.1</td>\n",
       "      <td>37247.1</td>\n",
       "      <td>0.0</td>\n",
       "      <td>13500.0</td>\n",
       "      <td>22800.0</td>\n",
       "      <td>37900.0</td>\n",
       "      <td>9999999.0</td>\n",
       "    </tr>\n",
       "    <tr>\n",
       "      <th>target</th>\n",
       "      <td>466285.0</td>\n",
       "      <td>0.1</td>\n",
       "      <td>0.3</td>\n",
       "      <td>0.0</td>\n",
       "      <td>0.0</td>\n",
       "      <td>0.0</td>\n",
       "      <td>0.0</td>\n",
       "      <td>1.0</td>\n",
       "    </tr>\n",
       "  </tbody>\n",
       "</table>\n",
       "</div>"
      ],
      "text/plain": [
       "                                count        mean         std      min  \\\n",
       "Unnamed: 0                   466285.0    233142.0    134605.0      0.0   \n",
       "id                           466285.0  13079729.9  10893711.6  54734.0   \n",
       "member_id                    466285.0  14597660.6  11682367.4  70473.0   \n",
       "loan_amnt                    466285.0     14317.3      8286.5    500.0   \n",
       "funded_amnt                  466285.0     14291.8      8274.4    500.0   \n",
       "funded_amnt_inv              466285.0     14222.3      8297.6      0.0   \n",
       "term                         466285.0        42.6        10.7     36.0   \n",
       "int_rate                     466285.0         0.1         0.0      0.1   \n",
       "installment                  466285.0       432.1       243.5     15.7   \n",
       "emp_length                   445277.0         6.0         3.6      0.0   \n",
       "annual_inc                   466281.0     73277.4     54963.6   1896.0   \n",
       "dti                          466285.0        17.2         7.9      0.0   \n",
       "delinq_2yrs                  466256.0         0.3         0.8      0.0   \n",
       "inq_last_6mths               466256.0         0.8         1.1      0.0   \n",
       "mths_since_last_delinq       215934.0        34.1        21.8      0.0   \n",
       "mths_since_last_record        62638.0        74.3        30.4      0.0   \n",
       "open_acc                     466256.0        11.2         5.0      0.0   \n",
       "pub_rec                      466256.0         0.2         0.5      0.0   \n",
       "revol_bal                    466285.0     16230.2     20676.2      0.0   \n",
       "revol_util                   465945.0         0.6         0.2      0.0   \n",
       "total_acc                    466256.0        25.1        11.6      1.0   \n",
       "out_prncp                    466285.0      4410.1      6355.1      0.0   \n",
       "out_prncp_inv                466285.0      4408.5      6353.2      0.0   \n",
       "total_rec_int                466285.0      2588.7      2483.8      0.0   \n",
       "last_pymnt_amnt              466285.0      3123.9      5554.7      0.0   \n",
       "collections_12_mths_ex_med   466140.0         0.0         0.1      0.0   \n",
       "mths_since_last_major_derog   98974.0        42.9        21.7      0.0   \n",
       "acc_now_delinq               466256.0         0.0         0.1      0.0   \n",
       "tot_coll_amt                 396009.0       191.9     14630.2      0.0   \n",
       "tot_cur_bal                  396009.0    138801.7    152114.7      0.0   \n",
       "total_rev_hi_lim             396009.0     30379.1     37247.1      0.0   \n",
       "target                       466285.0         0.1         0.3      0.0   \n",
       "\n",
       "                                   25%         50%         75%         max  \n",
       "Unnamed: 0                    116571.0    233142.0    349713.0    466284.0  \n",
       "id                           3639987.0  10107897.0  20731209.0  38098114.0  \n",
       "member_id                    4379705.0  11941075.0  23001541.0  40860827.0  \n",
       "loan_amnt                       8000.0     12000.0     20000.0     35000.0  \n",
       "funded_amnt                     8000.0     12000.0     20000.0     35000.0  \n",
       "funded_amnt_inv                 8000.0     12000.0     19950.0     35000.0  \n",
       "term                              36.0        36.0        60.0        60.0  \n",
       "int_rate                           0.1         0.1         0.2         0.3  \n",
       "installment                      256.7       379.9       566.6      1410.0  \n",
       "emp_length                         3.0         6.0        10.0        10.0  \n",
       "annual_inc                     45000.0     63000.0     88960.0   7500000.0  \n",
       "dti                               11.4        16.9        22.8        40.0  \n",
       "delinq_2yrs                        0.0         0.0         0.0        29.0  \n",
       "inq_last_6mths                     0.0         0.0         1.0        33.0  \n",
       "mths_since_last_delinq            16.0        31.0        49.0       188.0  \n",
       "mths_since_last_record            53.0        76.0       102.0       129.0  \n",
       "open_acc                           8.0        10.0        14.0        84.0  \n",
       "pub_rec                            0.0         0.0         0.0        63.0  \n",
       "revol_bal                       6413.0     11764.0     20333.0   2568995.0  \n",
       "revol_util                         0.4         0.6         0.7         8.9  \n",
       "total_acc                         17.0        23.0        32.0       156.0  \n",
       "out_prncp                          0.0       441.5      7341.6     32160.4  \n",
       "out_prncp_inv                      0.0       441.4      7338.4     32160.4  \n",
       "total_rec_int                    957.3      1818.9      3304.5     24205.6  \n",
       "last_pymnt_amnt                  312.6       546.0      3187.5     36234.4  \n",
       "collections_12_mths_ex_med         0.0         0.0         0.0        20.0  \n",
       "mths_since_last_major_derog       26.0        42.0        59.0       188.0  \n",
       "acc_now_delinq                     0.0         0.0         0.0         5.0  \n",
       "tot_coll_amt                       0.0         0.0         0.0   9152545.0  \n",
       "tot_cur_bal                    28618.0     81539.0    208953.0   8000078.0  \n",
       "total_rev_hi_lim               13500.0     22800.0     37900.0   9999999.0  \n",
       "target                             0.0         0.0         0.0         1.0  "
      ]
     },
     "execution_count": 121,
     "metadata": {},
     "output_type": "execute_result"
    }
   ],
   "source": [
    "# Check the statistics of numeric variables\n",
    "loan_data.select_dtypes(include='number').describe().round(1).transpose()"
   ]
  },
  {
   "cell_type": "markdown",
   "metadata": {},
   "source": [
    "#### Loan Amount Distribuition"
   ]
  },
  {
   "cell_type": "code",
   "execution_count": 122,
   "metadata": {},
   "outputs": [
    {
     "data": {
      "image/png": "[encoded data removed]",
      "text/plain": [
       "<Figure size 864x432 with 1 Axes>"
      ]
     },
     "metadata": {
      "needs_background": "light"
     },
     "output_type": "display_data"
    }
   ],
   "source": [
    "plt.figure(figsize=(12,6))\n",
    "g = sns.distplot(loan_data[\"loan_amnt\"],  bins = 40)\n",
    "g.set_xlabel(\"Loan Amount\")\n",
    "g.set_ylabel(\"Density\")\n",
    "g.set_title(\"Loan Amount Distribuition\")\n",
    "plt.show()"
   ]
  },
  {
   "cell_type": "markdown",
   "metadata": {},
   "source": [
    "We can note that a big part of the loans are values between 5,000 and 15,000 dollars;"
   ]
  },
  {
   "cell_type": "markdown",
   "metadata": {},
   "source": [
    "#### Interest Rate Distribuition"
   ]
  },
  {
   "cell_type": "code",
   "execution_count": 123,
   "metadata": {},
   "outputs": [
    {
     "data": {
      "image/png": "[encoded data removed]",
      "text/plain": [
       "<Figure size 864x432 with 1 Axes>"
      ]
     },
     "metadata": {
      "needs_background": "light"
     },
     "output_type": "display_data"
    }
   ],
   "source": [
    "plt.figure(figsize=(12,6))\n",
    "g = sns.distplot(loan_data[\"int_rate\"].dropna(),  bins = 20)\n",
    "g.set_xlabel(\"Loan Interest Rate\")\n",
    "g.set_ylabel(\"Density\")\n",
    "g.set_title(\"Interest Rate Distribuition\")\n",
    "plt.show()"
   ]
  },
  {
   "cell_type": "markdown",
   "metadata": {},
   "source": [
    "Also, many part of all loans have interest between 6% and 16%, and the most common one is 11%."
   ]
  },
  {
   "cell_type": "markdown",
   "metadata": {},
   "source": [
    "#### Installment Distribuition"
   ]
  },
  {
   "cell_type": "code",
   "execution_count": 124,
   "metadata": {},
   "outputs": [
    {
     "data": {
      "image/png": "[encoded data removed]",
      "text/plain": [
       "<Figure size 864x432 with 1 Axes>"
      ]
     },
     "metadata": {
      "needs_background": "light"
     },
     "output_type": "display_data"
    }
   ],
   "source": [
    "plt.figure(figsize=(12,6))\n",
    "g = sns.distplot(loan_data[\"installment\"],  bins = 40)\n",
    "g.set_xlabel(\"Loan Installment Rate\")\n",
    "g.set_ylabel(\"Density\")\n",
    "g.set_title(\"Installment Distribuition\")\n",
    "plt.show()"
   ]
  },
  {
   "cell_type": "markdown",
   "metadata": {},
   "source": [
    "We can see that the peak of our distribution is ~200 dollars monthly, and majority of the installment are less then 500 dollars."
   ]
  },
  {
   "cell_type": "markdown",
   "metadata": {},
   "source": [
    "#### Distributions of Interest Rate "
   ]
  },
  {
   "cell_type": "code",
   "execution_count": 125,
   "metadata": {},
   "outputs": [
    {
     "data": {
      "image/png": "[encoded data removed]",
      "text/plain": [
       "<Figure size 864x432 with 1 Axes>"
      ]
     },
     "metadata": {
      "needs_background": "light"
     },
     "output_type": "display_data"
    }
   ],
   "source": [
    "fig = plt.figure(figsize=(12,6))\n",
    "sns.kdeplot(loan_data.loc[loan_data['target'] == 1, 'int_rate'], label = 'target = 1', shade=True)\n",
    "sns.kdeplot(loan_data.loc[loan_data['target'] == 0, 'int_rate'], label = 'target = 0', shade=True);\n",
    "plt.legend()\n",
    "plt.xlabel('Interest Rate (%)')\n",
    "plt.ylabel('Density')\n",
    "plt.title('Distribution of Interest Rate');"
   ]
  },
  {
   "cell_type": "markdown",
   "metadata": {},
   "source": [
    "The interest rate distributions of default and non-default show different patterns. It indicates borrowers with higher interest rates have high possibility to be default."
   ]
  },
  {
   "cell_type": "markdown",
   "metadata": {},
   "source": [
    "#### Check Home Ownership"
   ]
  },
  {
   "cell_type": "code",
   "execution_count": 126,
   "metadata": {},
   "outputs": [
    {
     "data": {
      "image/png": "[encoded data removed]",
      "text/plain": [
       "<Figure size 864x432 with 1 Axes>"
      ]
     },
     "metadata": {
      "needs_background": "light"
     },
     "output_type": "display_data"
    }
   ],
   "source": [
    "plt.figure(figsize=(12,6))\n",
    "sns.countplot(data = loan_data, x = 'home_ownership', hue = 'target');\n",
    "plt.title('Number of accounts by home ownership');"
   ]
  },
  {
   "cell_type": "markdown",
   "metadata": {},
   "source": [
    "Most borrower live in rent home or have mortgage."
   ]
  },
  {
   "cell_type": "code",
   "execution_count": 127,
   "metadata": {},
   "outputs": [
    {
     "data": {
      "image/png": "[encoded data removed]",
      "text/plain": [
       "<Figure size 864x432 with 1 Axes>"
      ]
     },
     "metadata": {
      "needs_background": "light"
     },
     "output_type": "display_data"
    }
   ],
   "source": [
    "plt.figure(figsize=(12,6))\n",
    "level_order = ['MORTGAGE', 'OWN', 'RENT', 'OTHER', 'NONE']\n",
    "sns.barplot(x='home_ownership', order=level_order, y ='target', data = loan_data);\n",
    "plt.title('Default rate by home ownership');"
   ]
  },
  {
   "cell_type": "markdown",
   "metadata": {},
   "source": [
    "Home owners are less possible to be bad borrowers."
   ]
  },
  {
   "cell_type": "markdown",
   "metadata": {},
   "source": [
    "#### Check Loan Purpose"
   ]
  },
  {
   "cell_type": "code",
   "execution_count": 128,
   "metadata": {},
   "outputs": [
    {
     "data": {
      "image/png": "[encoded data removed]",
      "text/plain": [
       "<Figure size 864x432 with 1 Axes>"
      ]
     },
     "metadata": {
      "needs_background": "light"
     },
     "output_type": "display_data"
    }
   ],
   "source": [
    "plt.figure(figsize=(12,6))\n",
    "g = sns.countplot(data = loan_data, x = 'purpose', hue = 'target');\n",
    "g.set_xticklabels(g.get_xticklabels(), rotation=45);\n",
    "plt.title('Number of accounts by loan purpose');"
   ]
  },
  {
   "cell_type": "markdown",
   "metadata": {},
   "source": [
    "The top 3 purposes are: Debt Consolidation, paying Credit Card and small business."
   ]
  },
  {
   "cell_type": "code",
   "execution_count": 129,
   "metadata": {},
   "outputs": [
    {
     "data": {
      "image/png": "[encoded data removed]",
      "text/plain": [
       "<Figure size 864x432 with 1 Axes>"
      ]
     },
     "metadata": {
      "needs_background": "light"
     },
     "output_type": "display_data"
    }
   ],
   "source": [
    "plt.figure(figsize=(12,6))\n",
    "g = sns.barplot(x='purpose', y ='target', data = loan_data);\n",
    "g.set_xticklabels(g.get_xticklabels(), rotation=45);\n",
    "plt.title('Default rate by Loan Purpose');"
   ]
  },
  {
   "cell_type": "markdown",
   "metadata": {},
   "source": [
    "#### Check employement length"
   ]
  },
  {
   "cell_type": "code",
   "execution_count": 130,
   "metadata": {
    "scrolled": false
   },
   "outputs": [
    {
     "data": {
      "image/png": "[encoded data removed]",
      "text/plain": [
       "<Figure size 864x432 with 1 Axes>"
      ]
     },
     "metadata": {
      "needs_background": "light"
     },
     "output_type": "display_data"
    }
   ],
   "source": [
    "plt.figure(figsize=(12,6))\n",
    "sns.countplot(loan_data['emp_length'])\n",
    "plt.xlabel(\"Length\")\n",
    "plt.title(\"Distribution of Employement Length\")\n",
    "plt.show()"
   ]
  },
  {
   "cell_type": "markdown",
   "metadata": {},
   "source": [
    "Well, it can be seen that people who have worked for 10 or more years are more likely to take loans"
   ]
  },
  {
   "cell_type": "code",
   "execution_count": 131,
   "metadata": {},
   "outputs": [
    {
     "data": {
      "image/png": "[encoded data removed]",
      "text/plain": [
       "<Figure size 864x432 with 1 Axes>"
      ]
     },
     "metadata": {
      "needs_background": "light"
     },
     "output_type": "display_data"
    }
   ],
   "source": [
    "plt.figure(figsize=(12,6))\n",
    "sns.barplot(x='emp_length',  y ='target', data = loan_data);\n",
    "plt.title('Default rate by employement Length');"
   ]
  },
  {
   "cell_type": "markdown",
   "metadata": {},
   "source": [
    "#### Check sub grade "
   ]
  },
  {
   "cell_type": "code",
   "execution_count": 132,
   "metadata": {},
   "outputs": [
    {
     "data": {
      "image/png": "[encoded data removed]",
      "text/plain": [
       "<Figure size 864x720 with 2 Axes>"
      ]
     },
     "metadata": {
      "needs_background": "light"
     },
     "output_type": "display_data"
    }
   ],
   "source": [
    "level_order = sorted(list(loan_data['sub_grade'].dropna().unique()))\n",
    "plt.figure(figsize=(12,10))\n",
    "plt.subplot(211)\n",
    "sns.countplot(data = loan_data, x = 'sub_grade', order=level_order, hue = 'target');\n",
    "plt.title('')\n",
    "plt.subplot(212)\n",
    "sns.barplot(data = loan_data, x='sub_grade', order=level_order, y ='target');"
   ]
  },
  {
   "cell_type": "markdown",
   "metadata": {},
   "source": [
    "Majority of borrowers are from grade A-D, and borrowers with deteriorated grade show higher default risk."
   ]
  },
  {
   "cell_type": "markdown",
   "metadata": {},
   "source": [
    "#### Compare corrleated variables   \n",
    "loan amount and funded amount   \n",
    "total payment and total payment invested"
   ]
  },
  {
   "cell_type": "code",
   "execution_count": 133,
   "metadata": {},
   "outputs": [
    {
     "data": {
      "image/png": "[encoded data removed]",
      "text/plain": [
       "<Figure size 864x432 with 1 Axes>"
      ]
     },
     "metadata": {
      "needs_background": "light"
     },
     "output_type": "display_data"
    }
   ],
   "source": [
    "fig = plt.figure(figsize=(12,6))\n",
    "sns.kdeplot(loan_data.loan_amnt, label = 'target = 1', shade=True)\n",
    "sns.kdeplot(loan_data.funded_amnt, label = 'target = 0', shade=True);\n",
    "plt.legend()\n",
    "plt.xlabel('loan amount and funded amount')\n",
    "plt.ylabel('Density')\n",
    "plt.title('Distribution of loan amount and funded amount');"
   ]
  },
  {
   "cell_type": "markdown",
   "metadata": {},
   "source": [
    "## Transform characteristics and categorical variables into numeric"
   ]
  },
  {
   "cell_type": "markdown",
   "metadata": {},
   "source": [
    "#### Handle missing values"
   ]
  },
  {
   "cell_type": "code",
   "execution_count": 134,
   "metadata": {},
   "outputs": [
    {
     "data": {
      "text/plain": [
       "emp_length                      21008\n",
       "annual_inc                          4\n",
       "delinq_2yrs                        29\n",
       "inq_last_6mths                     29\n",
       "mths_since_last_delinq         250351\n",
       "mths_since_last_record         403647\n",
       "open_acc                           29\n",
       "pub_rec                            29\n",
       "revol_util                        340\n",
       "total_acc                          29\n",
       "next_pymnt_d                   227214\n",
       "collections_12_mths_ex_med        145\n",
       "mths_since_last_major_derog    367311\n",
       "acc_now_delinq                     29\n",
       "tot_coll_amt                    70276\n",
       "tot_cur_bal                     70276\n",
       "total_rev_hi_lim                70276\n",
       "dtype: int64"
      ]
     },
     "execution_count": 134,
     "metadata": {},
     "output_type": "execute_result"
    }
   ],
   "source": [
    "# Fileter columns with missing values\n",
    "nacols = loan_data.isnull().sum()\n",
    "nacols[nacols.values >0]"
   ]
  },
  {
   "cell_type": "code",
   "execution_count": 135,
   "metadata": {},
   "outputs": [
    {
     "name": "stdout",
     "output_type": "stream",
     "text": [
      "There are 17 columns with missing values and we will deal each case by case.\n"
     ]
    }
   ],
   "source": [
    "print('There are', len(nacols[nacols.values >0]), 'columns with missing values and we will deal each case by case.')"
   ]
  },
  {
   "cell_type": "code",
   "execution_count": 136,
   "metadata": {},
   "outputs": [],
   "source": [
    "# The missing value here means the account never delinquent before, so I convert the coolumn to binary.\n",
    "loan_data['ever_delq'] = np.where(loan_data['mths_since_last_delinq'].isnull(), 0, 1)\n",
    "\n",
    "loan_data.drop(columns=['mths_since_last_delinq'], inplace = True)"
   ]
  },
  {
   "cell_type": "code",
   "execution_count": 138,
   "metadata": {},
   "outputs": [],
   "source": [
    "# Follow business logic, I will fill missing values with zeros for the below columns.\n",
    "fill0_list = ['emp_length', 'delinq_2yrs', 'inq_last_6mths', \n",
    "              'open_acc', 'pub_rec', 'total_acc', 'acc_now_delinq',\n",
    "            'revol_util', 'collections_12_mths_ex_med' ]\n",
    "loan_data[fill0_list] = loan_data[fill0_list].fillna(0)"
   ]
  },
  {
   "cell_type": "code",
   "execution_count": 139,
   "metadata": {},
   "outputs": [],
   "source": [
    "# I didn't predict annual_inc using other attibutes due to time contraints. \n",
    "# For this column, it's reasonable to fill with median income. \n",
    "loan_data['annual_inc'] = loan_data['annual_inc'].replace(np.nan, loan_data['annual_inc'].median())"
   ]
  },
  {
   "cell_type": "code",
   "execution_count": 140,
   "metadata": {},
   "outputs": [
    {
     "data": {
      "text/plain": [
       "1209000"
      ]
     },
     "execution_count": 140,
     "metadata": {},
     "output_type": "execute_result"
    }
   ],
   "source": [
    "# Check missing again\n",
    "loan_data.isnull().sum().sum()"
   ]
  },
  {
   "cell_type": "markdown",
   "metadata": {},
   "source": [
    "#### Transform object variables into numeric"
   ]
  },
  {
   "cell_type": "code",
   "execution_count": 141,
   "metadata": {
    "scrolled": false
   },
   "outputs": [
    {
     "data": {
      "text/plain": [
       "sub_grade                  35\n",
       "home_ownership              6\n",
       "verification_status         3\n",
       "pymnt_plan                  2\n",
       "url                    466285\n",
       "purpose                    14\n",
       "addr_state                 50\n",
       "initial_list_status         2\n",
       "next_pymnt_d              100\n",
       "dtype: int64"
      ]
     },
     "execution_count": 141,
     "metadata": {},
     "output_type": "execute_result"
    }
   ],
   "source": [
    "loan_data.select_dtypes(include = 'object').nunique()"
   ]
  },
  {
   "cell_type": "markdown",
   "metadata": {},
   "source": [
    "For sub_grade column, I will keep it order and convert it to numeric value since each sub grade has different impact on default rate."
   ]
  },
  {
   "cell_type": "code",
   "execution_count": 142,
   "metadata": {},
   "outputs": [],
   "source": [
    "dict_grd = {grad: i+1 for i,grad in enumerate(sorted(loan_data['sub_grade'].unique()))}\n",
    "loan_data['sub_grade'] = loan_data['sub_grade'].map(dict_grd)"
   ]
  },
  {
   "cell_type": "markdown",
   "metadata": {},
   "source": [
    " Perform one-hot encoding on the rest variables"
   ]
  },
  {
   "cell_type": "code",
   "execution_count": 143,
   "metadata": {},
   "outputs": [
    {
     "ename": "MemoryError",
     "evalue": "Unable to allocate 202. GiB for an array with shape (466285, 466285) and data type uint8",
     "output_type": "error",
     "traceback": [
      "\u001b[1;31m---------------------------------------------------------------------------\u001b[0m",
      "\u001b[1;31mMemoryError\u001b[0m                               Traceback (most recent call last)",
      "\u001b[1;32m<ipython-input-143-4104fe85f0c4>\u001b[0m in \u001b[0;36m<module>\u001b[1;34m\u001b[0m\n\u001b[0;32m      1\u001b[0m \u001b[0monehot_list\u001b[0m \u001b[1;33m=\u001b[0m \u001b[0mlist\u001b[0m\u001b[1;33m(\u001b[0m\u001b[0mloan_data\u001b[0m\u001b[1;33m.\u001b[0m\u001b[0mselect_dtypes\u001b[0m\u001b[1;33m(\u001b[0m\u001b[0minclude\u001b[0m \u001b[1;33m=\u001b[0m \u001b[1;34m'object'\u001b[0m\u001b[1;33m)\u001b[0m\u001b[1;33m)\u001b[0m\u001b[1;33m\u001b[0m\u001b[1;33m\u001b[0m\u001b[0m\n\u001b[1;32m----> 2\u001b[1;33m \u001b[0mdf_loan\u001b[0m \u001b[1;33m=\u001b[0m \u001b[0mpd\u001b[0m\u001b[1;33m.\u001b[0m\u001b[0mget_dummies\u001b[0m\u001b[1;33m(\u001b[0m\u001b[0mloan_data\u001b[0m\u001b[1;33m,\u001b[0m \u001b[0mcolumns\u001b[0m \u001b[1;33m=\u001b[0m \u001b[0monehot_list\u001b[0m\u001b[1;33m,\u001b[0m \u001b[0mprefix\u001b[0m \u001b[1;33m=\u001b[0m \u001b[0monehot_list\u001b[0m\u001b[1;33m)\u001b[0m\u001b[1;33m\u001b[0m\u001b[1;33m\u001b[0m\u001b[0m\n\u001b[0m\u001b[0;32m      3\u001b[0m \u001b[0mdf\u001b[0m \u001b[1;33m=\u001b[0m \u001b[0mdf_loan\u001b[0m\u001b[1;33m.\u001b[0m\u001b[0mcopy\u001b[0m\u001b[1;33m(\u001b[0m\u001b[1;33m)\u001b[0m\u001b[1;33m\u001b[0m\u001b[1;33m\u001b[0m\u001b[0m\n",
      "\u001b[1;32m~\\Anaconda3\\lib\\site-packages\\pandas\\core\\reshape\\reshape.py\u001b[0m in \u001b[0;36mget_dummies\u001b[1;34m(data, prefix, prefix_sep, dummy_na, columns, sparse, drop_first, dtype)\u001b[0m\n\u001b[0;32m    894\u001b[0m                 \u001b[0msparse\u001b[0m\u001b[1;33m=\u001b[0m\u001b[0msparse\u001b[0m\u001b[1;33m,\u001b[0m\u001b[1;33m\u001b[0m\u001b[1;33m\u001b[0m\u001b[0m\n\u001b[0;32m    895\u001b[0m                 \u001b[0mdrop_first\u001b[0m\u001b[1;33m=\u001b[0m\u001b[0mdrop_first\u001b[0m\u001b[1;33m,\u001b[0m\u001b[1;33m\u001b[0m\u001b[1;33m\u001b[0m\u001b[0m\n\u001b[1;32m--> 896\u001b[1;33m                 \u001b[0mdtype\u001b[0m\u001b[1;33m=\u001b[0m\u001b[0mdtype\u001b[0m\u001b[1;33m,\u001b[0m\u001b[1;33m\u001b[0m\u001b[1;33m\u001b[0m\u001b[0m\n\u001b[0m\u001b[0;32m    897\u001b[0m             )\n\u001b[0;32m    898\u001b[0m             \u001b[0mwith_dummies\u001b[0m\u001b[1;33m.\u001b[0m\u001b[0mappend\u001b[0m\u001b[1;33m(\u001b[0m\u001b[0mdummy\u001b[0m\u001b[1;33m)\u001b[0m\u001b[1;33m\u001b[0m\u001b[1;33m\u001b[0m\u001b[0m\n",
      "\u001b[1;32m~\\Anaconda3\\lib\\site-packages\\pandas\\core\\reshape\\reshape.py\u001b[0m in \u001b[0;36m_get_dummies_1d\u001b[1;34m(data, prefix, prefix_sep, dummy_na, sparse, drop_first, dtype)\u001b[0m\n\u001b[0;32m   1003\u001b[0m \u001b[1;33m\u001b[0m\u001b[0m\n\u001b[0;32m   1004\u001b[0m     \u001b[1;32melse\u001b[0m\u001b[1;33m:\u001b[0m\u001b[1;33m\u001b[0m\u001b[1;33m\u001b[0m\u001b[0m\n\u001b[1;32m-> 1005\u001b[1;33m         \u001b[0mdummy_mat\u001b[0m \u001b[1;33m=\u001b[0m \u001b[0mnp\u001b[0m\u001b[1;33m.\u001b[0m\u001b[0meye\u001b[0m\u001b[1;33m(\u001b[0m\u001b[0mnumber_of_cols\u001b[0m\u001b[1;33m,\u001b[0m \u001b[0mdtype\u001b[0m\u001b[1;33m=\u001b[0m\u001b[0mdtype\u001b[0m\u001b[1;33m)\u001b[0m\u001b[1;33m.\u001b[0m\u001b[0mtake\u001b[0m\u001b[1;33m(\u001b[0m\u001b[0mcodes\u001b[0m\u001b[1;33m,\u001b[0m \u001b[0maxis\u001b[0m\u001b[1;33m=\u001b[0m\u001b[1;36m0\u001b[0m\u001b[1;33m)\u001b[0m\u001b[1;33m\u001b[0m\u001b[1;33m\u001b[0m\u001b[0m\n\u001b[0m\u001b[0;32m   1006\u001b[0m \u001b[1;33m\u001b[0m\u001b[0m\n\u001b[0;32m   1007\u001b[0m         \u001b[1;32mif\u001b[0m \u001b[1;32mnot\u001b[0m \u001b[0mdummy_na\u001b[0m\u001b[1;33m:\u001b[0m\u001b[1;33m\u001b[0m\u001b[1;33m\u001b[0m\u001b[0m\n",
      "\u001b[1;32m~\\Anaconda3\\lib\\site-packages\\numpy\\lib\\twodim_base.py\u001b[0m in \u001b[0;36meye\u001b[1;34m(N, M, k, dtype, order)\u001b[0m\n\u001b[0;32m    199\u001b[0m     \u001b[1;32mif\u001b[0m \u001b[0mM\u001b[0m \u001b[1;32mis\u001b[0m \u001b[1;32mNone\u001b[0m\u001b[1;33m:\u001b[0m\u001b[1;33m\u001b[0m\u001b[1;33m\u001b[0m\u001b[0m\n\u001b[0;32m    200\u001b[0m         \u001b[0mM\u001b[0m \u001b[1;33m=\u001b[0m \u001b[0mN\u001b[0m\u001b[1;33m\u001b[0m\u001b[1;33m\u001b[0m\u001b[0m\n\u001b[1;32m--> 201\u001b[1;33m     \u001b[0mm\u001b[0m \u001b[1;33m=\u001b[0m \u001b[0mzeros\u001b[0m\u001b[1;33m(\u001b[0m\u001b[1;33m(\u001b[0m\u001b[0mN\u001b[0m\u001b[1;33m,\u001b[0m \u001b[0mM\u001b[0m\u001b[1;33m)\u001b[0m\u001b[1;33m,\u001b[0m \u001b[0mdtype\u001b[0m\u001b[1;33m=\u001b[0m\u001b[0mdtype\u001b[0m\u001b[1;33m,\u001b[0m \u001b[0morder\u001b[0m\u001b[1;33m=\u001b[0m\u001b[0morder\u001b[0m\u001b[1;33m)\u001b[0m\u001b[1;33m\u001b[0m\u001b[1;33m\u001b[0m\u001b[0m\n\u001b[0m\u001b[0;32m    202\u001b[0m     \u001b[1;32mif\u001b[0m \u001b[0mk\u001b[0m \u001b[1;33m>=\u001b[0m \u001b[0mM\u001b[0m\u001b[1;33m:\u001b[0m\u001b[1;33m\u001b[0m\u001b[1;33m\u001b[0m\u001b[0m\n\u001b[0;32m    203\u001b[0m         \u001b[1;32mreturn\u001b[0m \u001b[0mm\u001b[0m\u001b[1;33m\u001b[0m\u001b[1;33m\u001b[0m\u001b[0m\n",
      "\u001b[1;31mMemoryError\u001b[0m: Unable to allocate 202. GiB for an array with shape (466285, 466285) and data type uint8"
     ]
    }
   ],
   "source": [
    "onehot_list = list(loan_data.select_dtypes(include = 'object'))\n",
    "df_loan = pd.get_dummies(loan_data, columns = onehot_list, prefix = onehot_list)\n",
    "df = df_loan.copy()"
   ]
  },
  {
   "cell_type": "markdown",
   "metadata": {},
   "source": [
    "A common convention after one-hot encoding is to remove one of the one-hot encoded columns from each categorical feature. This convention is only required when creating an OLS model with the normal equation. Since we are use xgboost models here, we will keep all columns."
   ]
  },
  {
   "cell_type": "code",
   "execution_count": 144,
   "metadata": {
    "scrolled": true
   },
   "outputs": [
    {
     "data": {
      "text/html": [
       "<div>\n",
       "<style scoped>\n",
       "    .dataframe tbody tr th:only-of-type {\n",
       "        vertical-align: middle;\n",
       "    }\n",
       "\n",
       "    .dataframe tbody tr th {\n",
       "        vertical-align: top;\n",
       "    }\n",
       "\n",
       "    .dataframe thead th {\n",
       "        text-align: right;\n",
       "    }\n",
       "</style>\n",
       "<table border=\"1\" class=\"dataframe\">\n",
       "  <thead>\n",
       "    <tr style=\"text-align: right;\">\n",
       "      <th></th>\n",
       "      <th>loan_amnt</th>\n",
       "      <th>funded_amnt</th>\n",
       "      <th>funded_amnt_inv</th>\n",
       "      <th>term</th>\n",
       "      <th>int_rate</th>\n",
       "      <th>installment</th>\n",
       "      <th>sub_grade</th>\n",
       "      <th>emp_length</th>\n",
       "      <th>annual_inc</th>\n",
       "      <th>dti</th>\n",
       "      <th>delinq_2yrs</th>\n",
       "      <th>inq_last_6mths</th>\n",
       "      <th>open_acc</th>\n",
       "      <th>pub_rec</th>\n",
       "      <th>revol_bal</th>\n",
       "      <th>revol_util</th>\n",
       "      <th>total_acc</th>\n",
       "      <th>total_rec_int</th>\n",
       "      <th>last_pymnt_amnt</th>\n",
       "      <th>collections_12_mths_ex_med</th>\n",
       "      <th>acc_now_delinq</th>\n",
       "      <th>chargeoff_within_12_mths</th>\n",
       "      <th>delinq_amnt</th>\n",
       "      <th>pub_rec_bankruptcies</th>\n",
       "      <th>tax_liens</th>\n",
       "      <th>target</th>\n",
       "      <th>ever_delq</th>\n",
       "      <th>home_ownership_MORTGAGE</th>\n",
       "      <th>home_ownership_NONE</th>\n",
       "      <th>home_ownership_OTHER</th>\n",
       "      <th>home_ownership_OWN</th>\n",
       "      <th>home_ownership_RENT</th>\n",
       "      <th>verification_status_Not Verified</th>\n",
       "      <th>verification_status_Source Verified</th>\n",
       "      <th>verification_status_Verified</th>\n",
       "      <th>purpose_car</th>\n",
       "      <th>purpose_credit_card</th>\n",
       "      <th>purpose_debt_consolidation</th>\n",
       "      <th>purpose_educational</th>\n",
       "      <th>purpose_home_improvement</th>\n",
       "      <th>purpose_house</th>\n",
       "      <th>purpose_major_purchase</th>\n",
       "      <th>purpose_medical</th>\n",
       "      <th>purpose_moving</th>\n",
       "      <th>purpose_other</th>\n",
       "      <th>purpose_renewable_energy</th>\n",
       "      <th>purpose_small_business</th>\n",
       "      <th>purpose_vacation</th>\n",
       "      <th>purpose_wedding</th>\n",
       "      <th>addr_state_AK</th>\n",
       "      <th>addr_state_AL</th>\n",
       "      <th>addr_state_AR</th>\n",
       "      <th>addr_state_AZ</th>\n",
       "      <th>addr_state_CA</th>\n",
       "      <th>addr_state_CO</th>\n",
       "      <th>addr_state_CT</th>\n",
       "      <th>addr_state_DC</th>\n",
       "      <th>addr_state_DE</th>\n",
       "      <th>addr_state_FL</th>\n",
       "      <th>addr_state_GA</th>\n",
       "      <th>addr_state_HI</th>\n",
       "      <th>addr_state_IA</th>\n",
       "      <th>addr_state_ID</th>\n",
       "      <th>addr_state_IL</th>\n",
       "      <th>addr_state_IN</th>\n",
       "      <th>addr_state_KS</th>\n",
       "      <th>addr_state_KY</th>\n",
       "      <th>addr_state_LA</th>\n",
       "      <th>addr_state_MA</th>\n",
       "      <th>addr_state_MD</th>\n",
       "      <th>addr_state_ME</th>\n",
       "      <th>addr_state_MI</th>\n",
       "      <th>addr_state_MN</th>\n",
       "      <th>addr_state_MO</th>\n",
       "      <th>addr_state_MS</th>\n",
       "      <th>addr_state_MT</th>\n",
       "      <th>addr_state_NC</th>\n",
       "      <th>addr_state_NE</th>\n",
       "      <th>addr_state_NH</th>\n",
       "      <th>addr_state_NJ</th>\n",
       "      <th>addr_state_NM</th>\n",
       "      <th>addr_state_NV</th>\n",
       "      <th>addr_state_NY</th>\n",
       "      <th>addr_state_OH</th>\n",
       "      <th>addr_state_OK</th>\n",
       "      <th>addr_state_OR</th>\n",
       "      <th>addr_state_PA</th>\n",
       "      <th>addr_state_RI</th>\n",
       "      <th>addr_state_SC</th>\n",
       "      <th>addr_state_SD</th>\n",
       "      <th>addr_state_TN</th>\n",
       "      <th>addr_state_TX</th>\n",
       "      <th>addr_state_UT</th>\n",
       "      <th>addr_state_VA</th>\n",
       "      <th>addr_state_VT</th>\n",
       "      <th>addr_state_WA</th>\n",
       "      <th>addr_state_WI</th>\n",
       "      <th>addr_state_WV</th>\n",
       "      <th>addr_state_WY</th>\n",
       "    </tr>\n",
       "  </thead>\n",
       "  <tbody>\n",
       "    <tr>\n",
       "      <th>0</th>\n",
       "      <td>5000.0</td>\n",
       "      <td>5000.0</td>\n",
       "      <td>4975.0</td>\n",
       "      <td>36.0</td>\n",
       "      <td>0.1065</td>\n",
       "      <td>162.87</td>\n",
       "      <td>7</td>\n",
       "      <td>10.0</td>\n",
       "      <td>24000.0</td>\n",
       "      <td>27.65</td>\n",
       "      <td>0.0</td>\n",
       "      <td>1.0</td>\n",
       "      <td>3.0</td>\n",
       "      <td>0.0</td>\n",
       "      <td>13648.0</td>\n",
       "      <td>0.837</td>\n",
       "      <td>9.0</td>\n",
       "      <td>863.16</td>\n",
       "      <td>171.62</td>\n",
       "      <td>0.0</td>\n",
       "      <td>0.0</td>\n",
       "      <td>0.0</td>\n",
       "      <td>0.0</td>\n",
       "      <td>0.0</td>\n",
       "      <td>0.0</td>\n",
       "      <td>0</td>\n",
       "      <td>0</td>\n",
       "      <td>0</td>\n",
       "      <td>0</td>\n",
       "      <td>0</td>\n",
       "      <td>0</td>\n",
       "      <td>1</td>\n",
       "      <td>0</td>\n",
       "      <td>0</td>\n",
       "      <td>1</td>\n",
       "      <td>0</td>\n",
       "      <td>1</td>\n",
       "      <td>0</td>\n",
       "      <td>0</td>\n",
       "      <td>0</td>\n",
       "      <td>0</td>\n",
       "      <td>0</td>\n",
       "      <td>0</td>\n",
       "      <td>0</td>\n",
       "      <td>0</td>\n",
       "      <td>0</td>\n",
       "      <td>0</td>\n",
       "      <td>0</td>\n",
       "      <td>0</td>\n",
       "      <td>0</td>\n",
       "      <td>0</td>\n",
       "      <td>0</td>\n",
       "      <td>1</td>\n",
       "      <td>0</td>\n",
       "      <td>0</td>\n",
       "      <td>0</td>\n",
       "      <td>0</td>\n",
       "      <td>0</td>\n",
       "      <td>0</td>\n",
       "      <td>0</td>\n",
       "      <td>0</td>\n",
       "      <td>0</td>\n",
       "      <td>0</td>\n",
       "      <td>0</td>\n",
       "      <td>0</td>\n",
       "      <td>0</td>\n",
       "      <td>0</td>\n",
       "      <td>0</td>\n",
       "      <td>0</td>\n",
       "      <td>0</td>\n",
       "      <td>0</td>\n",
       "      <td>0</td>\n",
       "      <td>0</td>\n",
       "      <td>0</td>\n",
       "      <td>0</td>\n",
       "      <td>0</td>\n",
       "      <td>0</td>\n",
       "      <td>0</td>\n",
       "      <td>0</td>\n",
       "      <td>0</td>\n",
       "      <td>0</td>\n",
       "      <td>0</td>\n",
       "      <td>0</td>\n",
       "      <td>0</td>\n",
       "      <td>0</td>\n",
       "      <td>0</td>\n",
       "      <td>0</td>\n",
       "      <td>0</td>\n",
       "      <td>0</td>\n",
       "      <td>0</td>\n",
       "      <td>0</td>\n",
       "      <td>0</td>\n",
       "      <td>0</td>\n",
       "      <td>0</td>\n",
       "      <td>0</td>\n",
       "      <td>0</td>\n",
       "      <td>0</td>\n",
       "      <td>0</td>\n",
       "      <td>0</td>\n",
       "    </tr>\n",
       "    <tr>\n",
       "      <th>1</th>\n",
       "      <td>2500.0</td>\n",
       "      <td>2500.0</td>\n",
       "      <td>2500.0</td>\n",
       "      <td>60.0</td>\n",
       "      <td>0.1527</td>\n",
       "      <td>59.83</td>\n",
       "      <td>14</td>\n",
       "      <td>0.0</td>\n",
       "      <td>30000.0</td>\n",
       "      <td>1.00</td>\n",
       "      <td>0.0</td>\n",
       "      <td>5.0</td>\n",
       "      <td>3.0</td>\n",
       "      <td>0.0</td>\n",
       "      <td>1687.0</td>\n",
       "      <td>0.094</td>\n",
       "      <td>4.0</td>\n",
       "      <td>435.17</td>\n",
       "      <td>119.66</td>\n",
       "      <td>0.0</td>\n",
       "      <td>0.0</td>\n",
       "      <td>0.0</td>\n",
       "      <td>0.0</td>\n",
       "      <td>0.0</td>\n",
       "      <td>0.0</td>\n",
       "      <td>1</td>\n",
       "      <td>0</td>\n",
       "      <td>0</td>\n",
       "      <td>0</td>\n",
       "      <td>0</td>\n",
       "      <td>0</td>\n",
       "      <td>1</td>\n",
       "      <td>0</td>\n",
       "      <td>1</td>\n",
       "      <td>0</td>\n",
       "      <td>1</td>\n",
       "      <td>0</td>\n",
       "      <td>0</td>\n",
       "      <td>0</td>\n",
       "      <td>0</td>\n",
       "      <td>0</td>\n",
       "      <td>0</td>\n",
       "      <td>0</td>\n",
       "      <td>0</td>\n",
       "      <td>0</td>\n",
       "      <td>0</td>\n",
       "      <td>0</td>\n",
       "      <td>0</td>\n",
       "      <td>0</td>\n",
       "      <td>0</td>\n",
       "      <td>0</td>\n",
       "      <td>0</td>\n",
       "      <td>0</td>\n",
       "      <td>0</td>\n",
       "      <td>0</td>\n",
       "      <td>0</td>\n",
       "      <td>0</td>\n",
       "      <td>0</td>\n",
       "      <td>0</td>\n",
       "      <td>1</td>\n",
       "      <td>0</td>\n",
       "      <td>0</td>\n",
       "      <td>0</td>\n",
       "      <td>0</td>\n",
       "      <td>0</td>\n",
       "      <td>0</td>\n",
       "      <td>0</td>\n",
       "      <td>0</td>\n",
       "      <td>0</td>\n",
       "      <td>0</td>\n",
       "      <td>0</td>\n",
       "      <td>0</td>\n",
       "      <td>0</td>\n",
       "      <td>0</td>\n",
       "      <td>0</td>\n",
       "      <td>0</td>\n",
       "      <td>0</td>\n",
       "      <td>0</td>\n",
       "      <td>0</td>\n",
       "      <td>0</td>\n",
       "      <td>0</td>\n",
       "      <td>0</td>\n",
       "      <td>0</td>\n",
       "      <td>0</td>\n",
       "      <td>0</td>\n",
       "      <td>0</td>\n",
       "      <td>0</td>\n",
       "      <td>0</td>\n",
       "      <td>0</td>\n",
       "      <td>0</td>\n",
       "      <td>0</td>\n",
       "      <td>0</td>\n",
       "      <td>0</td>\n",
       "      <td>0</td>\n",
       "      <td>0</td>\n",
       "      <td>0</td>\n",
       "      <td>0</td>\n",
       "      <td>0</td>\n",
       "      <td>0</td>\n",
       "    </tr>\n",
       "    <tr>\n",
       "      <th>2</th>\n",
       "      <td>2400.0</td>\n",
       "      <td>2400.0</td>\n",
       "      <td>2400.0</td>\n",
       "      <td>36.0</td>\n",
       "      <td>0.1596</td>\n",
       "      <td>84.33</td>\n",
       "      <td>15</td>\n",
       "      <td>10.0</td>\n",
       "      <td>12252.0</td>\n",
       "      <td>8.72</td>\n",
       "      <td>0.0</td>\n",
       "      <td>2.0</td>\n",
       "      <td>2.0</td>\n",
       "      <td>0.0</td>\n",
       "      <td>2956.0</td>\n",
       "      <td>0.985</td>\n",
       "      <td>10.0</td>\n",
       "      <td>605.67</td>\n",
       "      <td>649.91</td>\n",
       "      <td>0.0</td>\n",
       "      <td>0.0</td>\n",
       "      <td>0.0</td>\n",
       "      <td>0.0</td>\n",
       "      <td>0.0</td>\n",
       "      <td>0.0</td>\n",
       "      <td>0</td>\n",
       "      <td>0</td>\n",
       "      <td>0</td>\n",
       "      <td>0</td>\n",
       "      <td>0</td>\n",
       "      <td>0</td>\n",
       "      <td>1</td>\n",
       "      <td>1</td>\n",
       "      <td>0</td>\n",
       "      <td>0</td>\n",
       "      <td>0</td>\n",
       "      <td>0</td>\n",
       "      <td>0</td>\n",
       "      <td>0</td>\n",
       "      <td>0</td>\n",
       "      <td>0</td>\n",
       "      <td>0</td>\n",
       "      <td>0</td>\n",
       "      <td>0</td>\n",
       "      <td>0</td>\n",
       "      <td>0</td>\n",
       "      <td>1</td>\n",
       "      <td>0</td>\n",
       "      <td>0</td>\n",
       "      <td>0</td>\n",
       "      <td>0</td>\n",
       "      <td>0</td>\n",
       "      <td>0</td>\n",
       "      <td>0</td>\n",
       "      <td>0</td>\n",
       "      <td>0</td>\n",
       "      <td>0</td>\n",
       "      <td>0</td>\n",
       "      <td>0</td>\n",
       "      <td>0</td>\n",
       "      <td>0</td>\n",
       "      <td>0</td>\n",
       "      <td>0</td>\n",
       "      <td>1</td>\n",
       "      <td>0</td>\n",
       "      <td>0</td>\n",
       "      <td>0</td>\n",
       "      <td>0</td>\n",
       "      <td>0</td>\n",
       "      <td>0</td>\n",
       "      <td>0</td>\n",
       "      <td>0</td>\n",
       "      <td>0</td>\n",
       "      <td>0</td>\n",
       "      <td>0</td>\n",
       "      <td>0</td>\n",
       "      <td>0</td>\n",
       "      <td>0</td>\n",
       "      <td>0</td>\n",
       "      <td>0</td>\n",
       "      <td>0</td>\n",
       "      <td>0</td>\n",
       "      <td>0</td>\n",
       "      <td>0</td>\n",
       "      <td>0</td>\n",
       "      <td>0</td>\n",
       "      <td>0</td>\n",
       "      <td>0</td>\n",
       "      <td>0</td>\n",
       "      <td>0</td>\n",
       "      <td>0</td>\n",
       "      <td>0</td>\n",
       "      <td>0</td>\n",
       "      <td>0</td>\n",
       "      <td>0</td>\n",
       "      <td>0</td>\n",
       "      <td>0</td>\n",
       "      <td>0</td>\n",
       "      <td>0</td>\n",
       "    </tr>\n",
       "    <tr>\n",
       "      <th>3</th>\n",
       "      <td>10000.0</td>\n",
       "      <td>10000.0</td>\n",
       "      <td>10000.0</td>\n",
       "      <td>36.0</td>\n",
       "      <td>0.1349</td>\n",
       "      <td>339.31</td>\n",
       "      <td>11</td>\n",
       "      <td>10.0</td>\n",
       "      <td>49200.0</td>\n",
       "      <td>20.00</td>\n",
       "      <td>0.0</td>\n",
       "      <td>1.0</td>\n",
       "      <td>10.0</td>\n",
       "      <td>0.0</td>\n",
       "      <td>5598.0</td>\n",
       "      <td>0.210</td>\n",
       "      <td>37.0</td>\n",
       "      <td>2214.92</td>\n",
       "      <td>357.48</td>\n",
       "      <td>0.0</td>\n",
       "      <td>0.0</td>\n",
       "      <td>0.0</td>\n",
       "      <td>0.0</td>\n",
       "      <td>0.0</td>\n",
       "      <td>0.0</td>\n",
       "      <td>0</td>\n",
       "      <td>1</td>\n",
       "      <td>0</td>\n",
       "      <td>0</td>\n",
       "      <td>0</td>\n",
       "      <td>0</td>\n",
       "      <td>1</td>\n",
       "      <td>0</td>\n",
       "      <td>1</td>\n",
       "      <td>0</td>\n",
       "      <td>0</td>\n",
       "      <td>0</td>\n",
       "      <td>0</td>\n",
       "      <td>0</td>\n",
       "      <td>0</td>\n",
       "      <td>0</td>\n",
       "      <td>0</td>\n",
       "      <td>0</td>\n",
       "      <td>0</td>\n",
       "      <td>1</td>\n",
       "      <td>0</td>\n",
       "      <td>0</td>\n",
       "      <td>0</td>\n",
       "      <td>0</td>\n",
       "      <td>0</td>\n",
       "      <td>0</td>\n",
       "      <td>0</td>\n",
       "      <td>0</td>\n",
       "      <td>1</td>\n",
       "      <td>0</td>\n",
       "      <td>0</td>\n",
       "      <td>0</td>\n",
       "      <td>0</td>\n",
       "      <td>0</td>\n",
       "      <td>0</td>\n",
       "      <td>0</td>\n",
       "      <td>0</td>\n",
       "      <td>0</td>\n",
       "      <td>0</td>\n",
       "      <td>0</td>\n",
       "      <td>0</td>\n",
       "      <td>0</td>\n",
       "      <td>0</td>\n",
       "      <td>0</td>\n",
       "      <td>0</td>\n",
       "      <td>0</td>\n",
       "      <td>0</td>\n",
       "      <td>0</td>\n",
       "      <td>0</td>\n",
       "      <td>0</td>\n",
       "      <td>0</td>\n",
       "      <td>0</td>\n",
       "      <td>0</td>\n",
       "      <td>0</td>\n",
       "      <td>0</td>\n",
       "      <td>0</td>\n",
       "      <td>0</td>\n",
       "      <td>0</td>\n",
       "      <td>0</td>\n",
       "      <td>0</td>\n",
       "      <td>0</td>\n",
       "      <td>0</td>\n",
       "      <td>0</td>\n",
       "      <td>0</td>\n",
       "      <td>0</td>\n",
       "      <td>0</td>\n",
       "      <td>0</td>\n",
       "      <td>0</td>\n",
       "      <td>0</td>\n",
       "      <td>0</td>\n",
       "      <td>0</td>\n",
       "      <td>0</td>\n",
       "      <td>0</td>\n",
       "      <td>0</td>\n",
       "    </tr>\n",
       "    <tr>\n",
       "      <th>4</th>\n",
       "      <td>3000.0</td>\n",
       "      <td>3000.0</td>\n",
       "      <td>3000.0</td>\n",
       "      <td>60.0</td>\n",
       "      <td>0.1269</td>\n",
       "      <td>67.79</td>\n",
       "      <td>10</td>\n",
       "      <td>1.0</td>\n",
       "      <td>80000.0</td>\n",
       "      <td>17.94</td>\n",
       "      <td>0.0</td>\n",
       "      <td>0.0</td>\n",
       "      <td>15.0</td>\n",
       "      <td>0.0</td>\n",
       "      <td>27783.0</td>\n",
       "      <td>0.539</td>\n",
       "      <td>38.0</td>\n",
       "      <td>1066.91</td>\n",
       "      <td>67.30</td>\n",
       "      <td>0.0</td>\n",
       "      <td>0.0</td>\n",
       "      <td>0.0</td>\n",
       "      <td>0.0</td>\n",
       "      <td>0.0</td>\n",
       "      <td>0.0</td>\n",
       "      <td>0</td>\n",
       "      <td>1</td>\n",
       "      <td>0</td>\n",
       "      <td>0</td>\n",
       "      <td>0</td>\n",
       "      <td>0</td>\n",
       "      <td>1</td>\n",
       "      <td>0</td>\n",
       "      <td>1</td>\n",
       "      <td>0</td>\n",
       "      <td>0</td>\n",
       "      <td>0</td>\n",
       "      <td>0</td>\n",
       "      <td>0</td>\n",
       "      <td>0</td>\n",
       "      <td>0</td>\n",
       "      <td>0</td>\n",
       "      <td>0</td>\n",
       "      <td>0</td>\n",
       "      <td>1</td>\n",
       "      <td>0</td>\n",
       "      <td>0</td>\n",
       "      <td>0</td>\n",
       "      <td>0</td>\n",
       "      <td>0</td>\n",
       "      <td>0</td>\n",
       "      <td>0</td>\n",
       "      <td>0</td>\n",
       "      <td>0</td>\n",
       "      <td>0</td>\n",
       "      <td>0</td>\n",
       "      <td>0</td>\n",
       "      <td>0</td>\n",
       "      <td>0</td>\n",
       "      <td>0</td>\n",
       "      <td>0</td>\n",
       "      <td>0</td>\n",
       "      <td>0</td>\n",
       "      <td>0</td>\n",
       "      <td>0</td>\n",
       "      <td>0</td>\n",
       "      <td>0</td>\n",
       "      <td>0</td>\n",
       "      <td>0</td>\n",
       "      <td>0</td>\n",
       "      <td>0</td>\n",
       "      <td>0</td>\n",
       "      <td>0</td>\n",
       "      <td>0</td>\n",
       "      <td>0</td>\n",
       "      <td>0</td>\n",
       "      <td>0</td>\n",
       "      <td>0</td>\n",
       "      <td>0</td>\n",
       "      <td>0</td>\n",
       "      <td>0</td>\n",
       "      <td>0</td>\n",
       "      <td>0</td>\n",
       "      <td>0</td>\n",
       "      <td>0</td>\n",
       "      <td>1</td>\n",
       "      <td>0</td>\n",
       "      <td>0</td>\n",
       "      <td>0</td>\n",
       "      <td>0</td>\n",
       "      <td>0</td>\n",
       "      <td>0</td>\n",
       "      <td>0</td>\n",
       "      <td>0</td>\n",
       "      <td>0</td>\n",
       "      <td>0</td>\n",
       "      <td>0</td>\n",
       "      <td>0</td>\n",
       "      <td>0</td>\n",
       "    </tr>\n",
       "  </tbody>\n",
       "</table>\n",
       "</div>"
      ],
      "text/plain": [
       "   loan_amnt  funded_amnt  funded_amnt_inv  term  int_rate  installment  \\\n",
       "0     5000.0       5000.0           4975.0  36.0    0.1065       162.87   \n",
       "1     2500.0       2500.0           2500.0  60.0    0.1527        59.83   \n",
       "2     2400.0       2400.0           2400.0  36.0    0.1596        84.33   \n",
       "3    10000.0      10000.0          10000.0  36.0    0.1349       339.31   \n",
       "4     3000.0       3000.0           3000.0  60.0    0.1269        67.79   \n",
       "\n",
       "   sub_grade  emp_length  annual_inc    dti  delinq_2yrs  inq_last_6mths  \\\n",
       "0          7        10.0     24000.0  27.65          0.0             1.0   \n",
       "1         14         0.0     30000.0   1.00          0.0             5.0   \n",
       "2         15        10.0     12252.0   8.72          0.0             2.0   \n",
       "3         11        10.0     49200.0  20.00          0.0             1.0   \n",
       "4         10         1.0     80000.0  17.94          0.0             0.0   \n",
       "\n",
       "   open_acc  pub_rec  revol_bal  revol_util  total_acc  total_rec_int  \\\n",
       "0       3.0      0.0    13648.0       0.837        9.0         863.16   \n",
       "1       3.0      0.0     1687.0       0.094        4.0         435.17   \n",
       "2       2.0      0.0     2956.0       0.985       10.0         605.67   \n",
       "3      10.0      0.0     5598.0       0.210       37.0        2214.92   \n",
       "4      15.0      0.0    27783.0       0.539       38.0        1066.91   \n",
       "\n",
       "   last_pymnt_amnt  collections_12_mths_ex_med  acc_now_delinq  \\\n",
       "0           171.62                         0.0             0.0   \n",
       "1           119.66                         0.0             0.0   \n",
       "2           649.91                         0.0             0.0   \n",
       "3           357.48                         0.0             0.0   \n",
       "4            67.30                         0.0             0.0   \n",
       "\n",
       "   chargeoff_within_12_mths  delinq_amnt  pub_rec_bankruptcies  tax_liens  \\\n",
       "0                       0.0          0.0                   0.0        0.0   \n",
       "1                       0.0          0.0                   0.0        0.0   \n",
       "2                       0.0          0.0                   0.0        0.0   \n",
       "3                       0.0          0.0                   0.0        0.0   \n",
       "4                       0.0          0.0                   0.0        0.0   \n",
       "\n",
       "   target  ever_delq  home_ownership_MORTGAGE  home_ownership_NONE  \\\n",
       "0       0          0                        0                    0   \n",
       "1       1          0                        0                    0   \n",
       "2       0          0                        0                    0   \n",
       "3       0          1                        0                    0   \n",
       "4       0          1                        0                    0   \n",
       "\n",
       "   home_ownership_OTHER  home_ownership_OWN  home_ownership_RENT  \\\n",
       "0                     0                   0                    1   \n",
       "1                     0                   0                    1   \n",
       "2                     0                   0                    1   \n",
       "3                     0                   0                    1   \n",
       "4                     0                   0                    1   \n",
       "\n",
       "   verification_status_Not Verified  verification_status_Source Verified  \\\n",
       "0                                 0                                    0   \n",
       "1                                 0                                    1   \n",
       "2                                 1                                    0   \n",
       "3                                 0                                    1   \n",
       "4                                 0                                    1   \n",
       "\n",
       "   verification_status_Verified  purpose_car  purpose_credit_card  \\\n",
       "0                             1            0                    1   \n",
       "1                             0            1                    0   \n",
       "2                             0            0                    0   \n",
       "3                             0            0                    0   \n",
       "4                             0            0                    0   \n",
       "\n",
       "   purpose_debt_consolidation  purpose_educational  purpose_home_improvement  \\\n",
       "0                           0                    0                         0   \n",
       "1                           0                    0                         0   \n",
       "2                           0                    0                         0   \n",
       "3                           0                    0                         0   \n",
       "4                           0                    0                         0   \n",
       "\n",
       "   purpose_house  purpose_major_purchase  purpose_medical  purpose_moving  \\\n",
       "0              0                       0                0               0   \n",
       "1              0                       0                0               0   \n",
       "2              0                       0                0               0   \n",
       "3              0                       0                0               0   \n",
       "4              0                       0                0               0   \n",
       "\n",
       "   purpose_other  purpose_renewable_energy  purpose_small_business  \\\n",
       "0              0                         0                       0   \n",
       "1              0                         0                       0   \n",
       "2              0                         0                       1   \n",
       "3              1                         0                       0   \n",
       "4              1                         0                       0   \n",
       "\n",
       "   purpose_vacation  purpose_wedding  addr_state_AK  addr_state_AL  \\\n",
       "0                 0                0              0              0   \n",
       "1                 0                0              0              0   \n",
       "2                 0                0              0              0   \n",
       "3                 0                0              0              0   \n",
       "4                 0                0              0              0   \n",
       "\n",
       "   addr_state_AR  addr_state_AZ  addr_state_CA  addr_state_CO  addr_state_CT  \\\n",
       "0              0              1              0              0              0   \n",
       "1              0              0              0              0              0   \n",
       "2              0              0              0              0              0   \n",
       "3              0              0              1              0              0   \n",
       "4              0              0              0              0              0   \n",
       "\n",
       "   addr_state_DC  addr_state_DE  addr_state_FL  addr_state_GA  addr_state_HI  \\\n",
       "0              0              0              0              0              0   \n",
       "1              0              0              0              1              0   \n",
       "2              0              0              0              0              0   \n",
       "3              0              0              0              0              0   \n",
       "4              0              0              0              0              0   \n",
       "\n",
       "   addr_state_IA  addr_state_ID  addr_state_IL  addr_state_IN  addr_state_KS  \\\n",
       "0              0              0              0              0              0   \n",
       "1              0              0              0              0              0   \n",
       "2              0              0              1              0              0   \n",
       "3              0              0              0              0              0   \n",
       "4              0              0              0              0              0   \n",
       "\n",
       "   addr_state_KY  addr_state_LA  addr_state_MA  addr_state_MD  addr_state_ME  \\\n",
       "0              0              0              0              0              0   \n",
       "1              0              0              0              0              0   \n",
       "2              0              0              0              0              0   \n",
       "3              0              0              0              0              0   \n",
       "4              0              0              0              0              0   \n",
       "\n",
       "   addr_state_MI  addr_state_MN  addr_state_MO  addr_state_MS  addr_state_MT  \\\n",
       "0              0              0              0              0              0   \n",
       "1              0              0              0              0              0   \n",
       "2              0              0              0              0              0   \n",
       "3              0              0              0              0              0   \n",
       "4              0              0              0              0              0   \n",
       "\n",
       "   addr_state_NC  addr_state_NE  addr_state_NH  addr_state_NJ  addr_state_NM  \\\n",
       "0              0              0              0              0              0   \n",
       "1              0              0              0              0              0   \n",
       "2              0              0              0              0              0   \n",
       "3              0              0              0              0              0   \n",
       "4              0              0              0              0              0   \n",
       "\n",
       "   addr_state_NV  addr_state_NY  addr_state_OH  addr_state_OK  addr_state_OR  \\\n",
       "0              0              0              0              0              0   \n",
       "1              0              0              0              0              0   \n",
       "2              0              0              0              0              0   \n",
       "3              0              0              0              0              0   \n",
       "4              0              0              0              0              1   \n",
       "\n",
       "   addr_state_PA  addr_state_RI  addr_state_SC  addr_state_SD  addr_state_TN  \\\n",
       "0              0              0              0              0              0   \n",
       "1              0              0              0              0              0   \n",
       "2              0              0              0              0              0   \n",
       "3              0              0              0              0              0   \n",
       "4              0              0              0              0              0   \n",
       "\n",
       "   addr_state_TX  addr_state_UT  addr_state_VA  addr_state_VT  addr_state_WA  \\\n",
       "0              0              0              0              0              0   \n",
       "1              0              0              0              0              0   \n",
       "2              0              0              0              0              0   \n",
       "3              0              0              0              0              0   \n",
       "4              0              0              0              0              0   \n",
       "\n",
       "   addr_state_WI  addr_state_WV  addr_state_WY  \n",
       "0              0              0              0  \n",
       "1              0              0              0  \n",
       "2              0              0              0  \n",
       "3              0              0              0  \n",
       "4              0              0              0  "
      ]
     },
     "execution_count": 144,
     "metadata": {},
     "output_type": "execute_result"
    }
   ],
   "source": [
    "df.head()"
   ]
  },
  {
   "cell_type": "markdown",
   "metadata": {},
   "source": [
    "As illustraed in EDA step, some variables are highly correlated (such as, 'loan_amnt' and 'funded_amnt', 'total_pymnt' and 'total_pymnt_inv'). Since ensemble of tree models is able to learn when some features are (highly or perfectly) correlated.\n",
    "So I will let xgboost model takes care of it.\n"
   ]
  },
  {
   "cell_type": "markdown",
   "metadata": {},
   "source": [
    "## Modeling - xgboost"
   ]
  },
  {
   "cell_type": "markdown",
   "metadata": {},
   "source": [
    "Prepare model input and output and split train and test set"
   ]
  },
  {
   "cell_type": "code",
   "execution_count": null,
   "metadata": {},
   "outputs": [],
   "source": [
    "X = df.drop(columns ='target')\n",
    "y = df[['target']]\n",
    "X_train, X_test, y_train, y_test = train_test_split(X, y, test_size = 0.25, random_state = 123, stratify  = y)"
   ]
  },
  {
   "cell_type": "markdown",
   "metadata": {},
   "source": [
    "To handle unbalanced classes, I use scale_pos_weight parameters to control the balance of positive and negative weights.\n",
    "A typical value to consider: sum(negative instances) / sum(positive instances)."
   ]
  },
  {
   "cell_type": "code",
   "execution_count": null,
   "metadata": {},
   "outputs": [],
   "source": [
    "cls_weit = df.target.value_counts()[0]/df.target.value_counts()[1]"
   ]
  },
  {
   "cell_type": "markdown",
   "metadata": {},
   "source": [
    "#### Train the first modeel"
   ]
  },
  {
   "cell_type": "code",
   "execution_count": null,
   "metadata": {},
   "outputs": [],
   "source": [
    "def model(xtrain, ytrain, xtest):\n",
    "    model = XGBClassifier(scale_pos_weight = cls_weit)\n",
    "    model.fit(xtrain, ytrain)\n",
    "    predictions = model.predict(xtest)\n",
    "    probs = model.predict_proba(xtest)\n",
    "    return predictions, probs"
   ]
  },
  {
   "cell_type": "code",
   "execution_count": null,
   "metadata": {},
   "outputs": [],
   "source": [
    "model = XGBClassifier(scale_pos_weight = cls_weit)\n",
    "model.fit(X_train, y_train)\n",
    "predictions = model.predict(X_test)\n",
    "probs = model.predict_proba(X_test)"
   ]
  },
  {
   "cell_type": "code",
   "execution_count": null,
   "metadata": {},
   "outputs": [],
   "source": []
  },
  {
   "cell_type": "code",
   "execution_count": null,
   "metadata": {},
   "outputs": [],
   "source": [
    "def perf(y_test, predictions, probs):\n",
    "    # Performance metrics: Acuracy, Confusion Matrix, AUC score\n",
    "\n",
    "    print(\"Acuracy: %.2f%%\" % (accuracy_score(y_test, predictions)*100))\n",
    "\n",
    "    preds = probs[:,1]\n",
    "    fpr, tpr, threshold = roc_curve(y_test, predictions)\n",
    "    roc_auc = auc(fpr, tpr)\n",
    "    print(\"AUC score: %.2f\" % (roc_auc))\n",
    "    \n",
    "    print(\"Confusion Matrix:\")\n",
    "    print(confusion_matrix(y_test, predictions))    "
   ]
  },
  {
   "cell_type": "code",
   "execution_count": null,
   "metadata": {},
   "outputs": [],
   "source": []
  },
  {
   "cell_type": "code",
   "execution_count": null,
   "metadata": {},
   "outputs": [],
   "source": [
    "accuracies = []\n",
    "aucs = []\n",
    "num_features = []\n",
    "best_accuracy = 0\n",
    "best_auc = 0\n",
    "best_num_features_acc = 0\n",
    "best_num_features_auc = 0"
   ]
  },
  {
   "cell_type": "code",
   "execution_count": null,
   "metadata": {},
   "outputs": [],
   "source": [
    "# Fit model using each importance as a threshold\n",
    "thresholds = np.unique(np.sort(model.feature_importances_))[::10]\n",
    "for thresh in thresholds:\n",
    "    # select features using threshold\n",
    "    selection = SelectFromModel(model, threshold=thresh, prefit=True)\n",
    "    select_X_train = selection.transform(X_train)\n",
    "    # train model\n",
    "    selection_model = XGBClassifier()\n",
    "    selection_model.fit(select_X_train, y_train)\n",
    "    # eval model\n",
    "    select_X_test = selection.transform(X_test)\n",
    "    predictions = selection_model.predict(select_X_test)\n",
    "    accuracy = accuracy_score(y_test, predictions)\n",
    "    fpr, tpr, _ = roc_curve(y_test,predictions)\n",
    "    roc_auc = auc(fpr, tpr)    \n",
    "    print(\"Thresh=%.3f, n=%d, Accuracy: %.2f%%, AUC score: %.2f\" % (thresh, select_X_train.shape[1], accuracy*100.0, roc_auc))\n",
    "    \n",
    "    # Record results for plotting at the end\n",
    "    accuracies.append(accuracy)\n",
    "    aucs.append(roc_auc)\n",
    "    num_features.append(select_X_train.shape[1])\n",
    "    selected_features = selection_model.get_booster().feature_names\n",
    "    # Record best results for plotting at the end\n",
    "    if accuracy > best_accuracy:\n",
    "        best_accuracy, best_num_features_acc = accuracy, len(selected_features)\n",
    "    if roc_auc > best_auc:\n",
    "        best_auc, best_num_features_auc, fprs, tprs = roc_auc, len(selected_features), fpr, tpr"
   ]
  },
  {
   "cell_type": "code",
   "execution_count": null,
   "metadata": {},
   "outputs": [],
   "source": [
    "plt.figure(figsize=(12,6))\n",
    "sns.lineplot(x=num_features, y=accuracies).set_title('Num. Features vs. Accuracies');"
   ]
  },
  {
   "cell_type": "code",
   "execution_count": null,
   "metadata": {},
   "outputs": [],
   "source": [
    "plt.figure(figsize=(12,6))\n",
    "sns.lineplot(x=num_features, y=aucs).set_title('Num. Features vs. ROC AUCs');"
   ]
  },
  {
   "cell_type": "code",
   "execution_count": null,
   "metadata": {},
   "outputs": [],
   "source": [
    "plt.title('Receiver Operating Characteristic')\n",
    "plt.plot(fprs, tprs, 'b', label = 'AUC = %0.2f' % best_auc)\n",
    "plt.legend(loc = 'lower right')\n",
    "plt.plot([0, 1], [0, 1],'r--')\n",
    "plt.xlim([-0.1, 1])\n",
    "plt.ylim([-0.1, 1])\n",
    "plt.ylabel('True Positive Rate')\n",
    "plt.xlabel('False Positive Rate')\n",
    "plt.show()"
   ]
  },
  {
   "cell_type": "code",
   "execution_count": null,
   "metadata": {},
   "outputs": [],
   "source": [
    "num_features = 40\n",
    "features = X_train.columns\n",
    "importances = model.feature_importances_\n",
    "indices = np.argsort(importances*-1)\n",
    "indices = indices[0:num_features]\n",
    "_ = plt.figure(figsize=(16,7))\n",
    "_ = plt.title('XGBoost: Most Important Features')\n",
    "_ = plt.bar(range(len(indices)), importances[indices], color='steelblue')\n",
    "_ = plt.xticks(range(len(indices)), [features[i] for i in indices], rotation=85, fontsize = 14)\n",
    "_ = plt.ylabel('Relative Importance')\n",
    "_ = plt.xlim(-1,num_features-1)\n",
    "_ = plt.tight_layout()\n",
    "# # _ = plt.savefig('features.png',dpi=100)"
   ]
  },
  {
   "cell_type": "code",
   "execution_count": null,
   "metadata": {},
   "outputs": [],
   "source": [
    "# plt.barh(df.columns[sorted_idx][-15:], model.feature_importances_[sorted_idx][-15:])\n",
    "# plt.xlabel(\"Xgboost Feature Importance\")\n",
    "\n",
    "num_features = 40\n",
    "features = X_train.columns\n",
    "importances = model.feature_importances_\n",
    "indices = np.argsort(importances*-1)[0:num_features][::-1]\n",
    "_ = plt.figure(figsize=(8,10))\n",
    "_ = plt.title('XGBoost: Most Important Features')\n",
    "_ = plt.barh(range(len(indices)), importances[indices], color='steelblue')\n",
    "_ = plt.yticks(range(len(indices)), [features[i] for i in indices],  fontsize = 10)\n",
    "_ = plt.ylabel('Relative Importance')\n",
    "# _ = plt.ylim(-1,num_features-1)\n",
    "# _ = plt.tight_layout()\n"
   ]
  },
  {
   "cell_type": "code",
   "execution_count": null,
   "metadata": {},
   "outputs": [],
   "source": [
    "#Record results\n",
    "thresholds = np.unique(np.sort(model.feature_importances_))\n",
    "accuracies = []\n",
    "aucs = []\n",
    "fprs = None\n",
    "tprs = None\n",
    "num_features = []\n",
    "best_accuracy = 0\n",
    "best_auc = 0\n",
    "best_num_features_acc = 0\n",
    "best_num_features_auc = 0"
   ]
  },
  {
   "cell_type": "code",
   "execution_count": null,
   "metadata": {},
   "outputs": [],
   "source": [
    "df.inq_last_6mths.describe()"
   ]
  },
  {
   "cell_type": "markdown",
   "metadata": {},
   "source": [
    "https://machinelearningmastery.com/feature-importance-and-feature-selection-with-xgboost-in-python/"
   ]
  }
 ],
 "metadata": {
  "kernelspec": {
   "display_name": "Python 3",
   "language": "python",
   "name": "python3"
  },
  "language_info": {
   "codemirror_mode": {
    "name": "ipython",
    "version": 3
   },
   "file_extension": ".py",
   "mimetype": "text/x-python",
   "name": "python",
   "nbconvert_exporter": "python",
   "pygments_lexer": "ipython3",
   "version": "3.7.4"
  }
 },
 "nbformat": 4,
 "nbformat_minor": 4
}
